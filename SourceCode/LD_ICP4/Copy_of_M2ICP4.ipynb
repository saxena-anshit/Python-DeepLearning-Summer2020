{
  "nbformat": 4,
  "nbformat_minor": 0,
  "metadata": {
    "colab": {
      "name": "Copy of M2ICP4.ipynb",
      "provenance": [],
      "collapsed_sections": []
    },
    "kernelspec": {
      "name": "python3",
      "display_name": "Python 3"
    },
    "accelerator": "GPU"
  },
  "cells": [
    {
      "cell_type": "markdown",
      "metadata": {
        "id": "view-in-github",
        "colab_type": "text"
      },
      "source": [
        "<a href=\"https://colab.research.google.com/github/mohzary/python-deep-learning-f19/blob/master/M2ICP4/M2ICP4.ipynb\" target=\"_parent\"><img src=\"https://colab.research.google.com/assets/colab-badge.svg\" alt=\"Open In Colab\"/></a>"
      ]
    },
    {
      "cell_type": "code",
      "metadata": {
        "id": "Ktehv3AxKYUX",
        "colab_type": "code",
        "colab": {}
      },
      "source": [
        "# Simple CNN model for CIFAR-10\n",
        "import tensorflow as tf \n",
        "from tensorflow import keras\n",
        "import numpy as np\n",
        "from tensorflow.keras.models import load_model\n",
        "from keras.datasets import cifar10\n",
        "from keras.utils import np_utils\n",
        "from keras.constraints import maxnorm\n",
        "from tensorflow.keras import datasets, layers, models\n",
        "from keras.layers import Dense\n",
        "from keras.layers import Dropout\n",
        "from keras.layers import Flatten\n",
        "from keras.optimizers import SGD\n",
        "import matplotlib.pyplot as plt\n",
        "from keras import backend as K\n",
        "K.set_image_data_format('channels_first')"
      ],
      "execution_count": null,
      "outputs": []
    },
    {
      "cell_type": "code",
      "metadata": {
        "id": "EOiy1vWlLWfv",
        "colab_type": "code",
        "colab": {}
      },
      "source": [
        "# fix random seed for reproducibility\n",
        "seed = 7\n",
        "np.random.seed(seed)"
      ],
      "execution_count": null,
      "outputs": []
    },
    {
      "cell_type": "code",
      "metadata": {
        "id": "xTWm3hbyLdRP",
        "colab_type": "code",
        "colab": {}
      },
      "source": [
        "# load data\n",
        "(X_train1, y_train1), (X_test1, y_test1) = cifar10.load_data()"
      ],
      "execution_count": null,
      "outputs": []
    },
    {
      "cell_type": "code",
      "metadata": {
        "id": "gmrH4EHCL6M9",
        "colab_type": "code",
        "colab": {}
      },
      "source": [
        "# normalize inputs from 0-255 to 0.0-1.0\n",
        "X_train = X_train1.astype('float32')\n",
        "X_test = X_test1.astype('float32')\n",
        "X_train = X_train1 / 255.0\n",
        "X_test = X_test1 / 255.0"
      ],
      "execution_count": null,
      "outputs": []
    },
    {
      "cell_type": "code",
      "metadata": {
        "id": "H2kElA7TMB_l",
        "colab_type": "code",
        "colab": {}
      },
      "source": [
        "# one hot encode outputs\n",
        "y_train = np_utils.to_categorical(y_train)\n",
        "y_test = np_utils.to_categorical(y_test)\n",
        "num_classes = y_test.shape[1]"
      ],
      "execution_count": null,
      "outputs": []
    },
    {
      "cell_type": "code",
      "metadata": {
        "id": "YGsb7bpuMPNB",
        "colab_type": "code",
        "colab": {
          "base_uri": "https://localhost:8080/",
          "height": 34
        },
        "outputId": "c3886c2b-3ec5-44d6-8552-6605fc368e2b"
      },
      "source": [
        "num_classes"
      ],
      "execution_count": null,
      "outputs": [
        {
          "output_type": "execute_result",
          "data": {
            "text/plain": [
              "10"
            ]
          },
          "metadata": {
            "tags": []
          },
          "execution_count": 20
        }
      ]
    },
    {
      "cell_type": "code",
      "metadata": {
        "id": "sGAbl-qmMSHa",
        "colab_type": "code",
        "colab": {
          "base_uri": "https://localhost:8080/",
          "height": 834
        },
        "outputId": "32efb335-30ff-453a-ca9f-43fa8bbdada5"
      },
      "source": [
        "# Create the model\n",
        "model = models.Sequential()\n",
        "model.add(layers.Conv2D(32, (3, 3), padding='same', activation='relu', input_shape=X_train.shape[1:], kernel_constraint=maxnorm(3)))\n",
        "model.add(layers.Dropout(0.2))\n",
        "model.add(layers.Conv2D(32, (3, 3), activation='relu', padding='same', kernel_constraint=maxnorm(3)))\n",
        "model.add(layers.MaxPooling2D(pool_size=(2, 2)))\n",
        "model.add(layers.Conv2D(64, (3, 3), padding='same', activation='relu', kernel_constraint=maxnorm(3)))\n",
        "model.add(layers.Dropout(0.2))\n",
        "model.add(layers.Conv2D(64, (3, 3), activation='relu', padding='same', kernel_constraint=maxnorm(3)))\n",
        "model.add(layers.MaxPooling2D(pool_size=(2, 2)))\n",
        "model.add(layers.Conv2D(128, (3, 3), padding='same', activation='relu', kernel_constraint=maxnorm(3)))\n",
        "model.add(layers.Dropout(0.2))\n",
        "model.add(layers.Conv2D(128, (3, 3), activation='relu', padding='same', kernel_constraint=maxnorm(3)))\n",
        "model.add(layers.MaxPooling2D(pool_size=(2, 2)))\n",
        "model.add(layers.Flatten())\n",
        "model.add(layers.Dropout(0.2))\n",
        "model.add(layers.Dense(1024, activation='relu', kernel_constraint=maxnorm(3)))\n",
        "model.add(layers.Dropout(0.2))\n",
        "model.add(layers.Dense(512, activation='relu', kernel_constraint=maxnorm(3)))\n",
        "model.add(layers.Dropout(0.2))\n",
        "model.add(layers.Dense(num_classes, activation='softmax'))\n",
        "model.summary()"
      ],
      "execution_count": null,
      "outputs": [
        {
          "output_type": "stream",
          "text": [
            "Model: \"sequential_1\"\n",
            "_________________________________________________________________\n",
            "Layer (type)                 Output Shape              Param #   \n",
            "=================================================================\n",
            "conv2d_2 (Conv2D)            (None, 32, 32, 32)        896       \n",
            "_________________________________________________________________\n",
            "dropout_2 (Dropout)          (None, 32, 32, 32)        0         \n",
            "_________________________________________________________________\n",
            "conv2d_3 (Conv2D)            (None, 32, 32, 32)        9248      \n",
            "_________________________________________________________________\n",
            "max_pooling2d_1 (MaxPooling2 (None, 32, 16, 16)        0         \n",
            "_________________________________________________________________\n",
            "conv2d_4 (Conv2D)            (None, 64, 16, 16)        18496     \n",
            "_________________________________________________________________\n",
            "dropout_3 (Dropout)          (None, 64, 16, 16)        0         \n",
            "_________________________________________________________________\n",
            "conv2d_5 (Conv2D)            (None, 64, 16, 16)        36928     \n",
            "_________________________________________________________________\n",
            "max_pooling2d_2 (MaxPooling2 (None, 64, 8, 8)          0         \n",
            "_________________________________________________________________\n",
            "conv2d_6 (Conv2D)            (None, 128, 8, 8)         73856     \n",
            "_________________________________________________________________\n",
            "dropout_4 (Dropout)          (None, 128, 8, 8)         0         \n",
            "_________________________________________________________________\n",
            "conv2d_7 (Conv2D)            (None, 128, 8, 8)         147584    \n",
            "_________________________________________________________________\n",
            "max_pooling2d_3 (MaxPooling2 (None, 128, 4, 4)         0         \n",
            "_________________________________________________________________\n",
            "flatten_1 (Flatten)          (None, 2048)              0         \n",
            "_________________________________________________________________\n",
            "dropout_5 (Dropout)          (None, 2048)              0         \n",
            "_________________________________________________________________\n",
            "dense_2 (Dense)              (None, 1024)              2098176   \n",
            "_________________________________________________________________\n",
            "dropout_6 (Dropout)          (None, 1024)              0         \n",
            "_________________________________________________________________\n",
            "dense_3 (Dense)              (None, 512)               524800    \n",
            "_________________________________________________________________\n",
            "dropout_7 (Dropout)          (None, 512)               0         \n",
            "_________________________________________________________________\n",
            "dense_4 (Dense)              (None, 10)                5130      \n",
            "=================================================================\n",
            "Total params: 2,915,114\n",
            "Trainable params: 2,915,114\n",
            "Non-trainable params: 0\n",
            "_________________________________________________________________\n"
          ],
          "name": "stdout"
        }
      ]
    },
    {
      "cell_type": "code",
      "metadata": {
        "id": "NszJjwtdM7uo",
        "colab_type": "code",
        "colab": {
          "base_uri": "https://localhost:8080/",
          "height": 852
        },
        "outputId": "1cae3e46-5282-4448-8137-7c3238a0a3e7"
      },
      "source": [
        "# Compile model\n",
        "epochs = 25\n",
        "lrate = 0.01\n",
        "decay = lrate/epochs\n",
        "sgd = keras.optimizers.SGD(lr=lrate, momentum=0.9, decay=decay, nesterov=False)\n",
        "model.compile(loss='categorical_crossentropy', optimizer=sgd, metrics=['accuracy'])\n",
        "print(model.summary())"
      ],
      "execution_count": null,
      "outputs": [
        {
          "output_type": "stream",
          "text": [
            "Model: \"sequential_1\"\n",
            "_________________________________________________________________\n",
            "Layer (type)                 Output Shape              Param #   \n",
            "=================================================================\n",
            "conv2d_2 (Conv2D)            (None, 32, 32, 32)        896       \n",
            "_________________________________________________________________\n",
            "dropout_2 (Dropout)          (None, 32, 32, 32)        0         \n",
            "_________________________________________________________________\n",
            "conv2d_3 (Conv2D)            (None, 32, 32, 32)        9248      \n",
            "_________________________________________________________________\n",
            "max_pooling2d_1 (MaxPooling2 (None, 32, 16, 16)        0         \n",
            "_________________________________________________________________\n",
            "conv2d_4 (Conv2D)            (None, 64, 16, 16)        18496     \n",
            "_________________________________________________________________\n",
            "dropout_3 (Dropout)          (None, 64, 16, 16)        0         \n",
            "_________________________________________________________________\n",
            "conv2d_5 (Conv2D)            (None, 64, 16, 16)        36928     \n",
            "_________________________________________________________________\n",
            "max_pooling2d_2 (MaxPooling2 (None, 64, 8, 8)          0         \n",
            "_________________________________________________________________\n",
            "conv2d_6 (Conv2D)            (None, 128, 8, 8)         73856     \n",
            "_________________________________________________________________\n",
            "dropout_4 (Dropout)          (None, 128, 8, 8)         0         \n",
            "_________________________________________________________________\n",
            "conv2d_7 (Conv2D)            (None, 128, 8, 8)         147584    \n",
            "_________________________________________________________________\n",
            "max_pooling2d_3 (MaxPooling2 (None, 128, 4, 4)         0         \n",
            "_________________________________________________________________\n",
            "flatten_1 (Flatten)          (None, 2048)              0         \n",
            "_________________________________________________________________\n",
            "dropout_5 (Dropout)          (None, 2048)              0         \n",
            "_________________________________________________________________\n",
            "dense_2 (Dense)              (None, 1024)              2098176   \n",
            "_________________________________________________________________\n",
            "dropout_6 (Dropout)          (None, 1024)              0         \n",
            "_________________________________________________________________\n",
            "dense_3 (Dense)              (None, 512)               524800    \n",
            "_________________________________________________________________\n",
            "dropout_7 (Dropout)          (None, 512)               0         \n",
            "_________________________________________________________________\n",
            "dense_4 (Dense)              (None, 10)                5130      \n",
            "=================================================================\n",
            "Total params: 2,915,114\n",
            "Trainable params: 2,915,114\n",
            "Non-trainable params: 0\n",
            "_________________________________________________________________\n",
            "None\n"
          ],
          "name": "stdout"
        }
      ]
    },
    {
      "cell_type": "code",
      "metadata": {
        "id": "72E5PxxJNBeZ",
        "colab_type": "code",
        "colab": {
          "base_uri": "https://localhost:8080/",
          "height": 905
        },
        "outputId": "5f8112d8-4ea5-49c7-9cec-e76d18f47709"
      },
      "source": [
        "# Fit the model\n",
        "history = model.fit(X_train, y_train, validation_data=(X_test, y_test), epochs=epochs, batch_size=32)"
      ],
      "execution_count": null,
      "outputs": [
        {
          "output_type": "stream",
          "text": [
            "Epoch 1/25\n",
            "1563/1563 [==============================] - 11s 7ms/step - loss: 1.8316 - accuracy: 0.3252 - val_loss: 1.5131 - val_accuracy: 0.4718\n",
            "Epoch 2/25\n",
            "1563/1563 [==============================] - 11s 7ms/step - loss: 1.4164 - accuracy: 0.4858 - val_loss: 1.2634 - val_accuracy: 0.5487\n",
            "Epoch 3/25\n",
            "1563/1563 [==============================] - 11s 7ms/step - loss: 1.2413 - accuracy: 0.5526 - val_loss: 1.1452 - val_accuracy: 0.5865\n",
            "Epoch 4/25\n",
            "1563/1563 [==============================] - 11s 7ms/step - loss: 1.1195 - accuracy: 0.5995 - val_loss: 1.0886 - val_accuracy: 0.6131\n",
            "Epoch 5/25\n",
            "1563/1563 [==============================] - 11s 7ms/step - loss: 1.0145 - accuracy: 0.6369 - val_loss: 1.0045 - val_accuracy: 0.6453\n",
            "Epoch 6/25\n",
            "1563/1563 [==============================] - 11s 7ms/step - loss: 0.9307 - accuracy: 0.6690 - val_loss: 0.9246 - val_accuracy: 0.6773\n",
            "Epoch 7/25\n",
            "1563/1563 [==============================] - 11s 7ms/step - loss: 0.8614 - accuracy: 0.6936 - val_loss: 0.8484 - val_accuracy: 0.7035\n",
            "Epoch 8/25\n",
            "1563/1563 [==============================] - 11s 7ms/step - loss: 0.7979 - accuracy: 0.7184 - val_loss: 0.8141 - val_accuracy: 0.7158\n",
            "Epoch 9/25\n",
            "1563/1563 [==============================] - 11s 7ms/step - loss: 0.7504 - accuracy: 0.7356 - val_loss: 0.8100 - val_accuracy: 0.7160\n",
            "Epoch 10/25\n",
            "1563/1563 [==============================] - 11s 7ms/step - loss: 0.7058 - accuracy: 0.7491 - val_loss: 0.7792 - val_accuracy: 0.7306\n",
            "Epoch 11/25\n",
            "1563/1563 [==============================] - 11s 7ms/step - loss: 0.6742 - accuracy: 0.7611 - val_loss: 0.7420 - val_accuracy: 0.7424\n",
            "Epoch 12/25\n",
            "1563/1563 [==============================] - 11s 7ms/step - loss: 0.6385 - accuracy: 0.7711 - val_loss: 0.7504 - val_accuracy: 0.7415\n",
            "Epoch 13/25\n",
            "1563/1563 [==============================] - 11s 7ms/step - loss: 0.6087 - accuracy: 0.7843 - val_loss: 0.7223 - val_accuracy: 0.7492\n",
            "Epoch 14/25\n",
            "1563/1563 [==============================] - 11s 7ms/step - loss: 0.5802 - accuracy: 0.7933 - val_loss: 0.7047 - val_accuracy: 0.7537\n",
            "Epoch 15/25\n",
            "1563/1563 [==============================] - 11s 7ms/step - loss: 0.5545 - accuracy: 0.8034 - val_loss: 0.6978 - val_accuracy: 0.7612\n",
            "Epoch 16/25\n",
            "1563/1563 [==============================] - 11s 7ms/step - loss: 0.5275 - accuracy: 0.8111 - val_loss: 0.6874 - val_accuracy: 0.7675\n",
            "Epoch 17/25\n",
            "1563/1563 [==============================] - 11s 7ms/step - loss: 0.5123 - accuracy: 0.8175 - val_loss: 0.6903 - val_accuracy: 0.7633\n",
            "Epoch 18/25\n",
            "1563/1563 [==============================] - 11s 7ms/step - loss: 0.4917 - accuracy: 0.8250 - val_loss: 0.6947 - val_accuracy: 0.7627\n",
            "Epoch 19/25\n",
            "1563/1563 [==============================] - 11s 7ms/step - loss: 0.4695 - accuracy: 0.8348 - val_loss: 0.6882 - val_accuracy: 0.7640\n",
            "Epoch 20/25\n",
            "1563/1563 [==============================] - 11s 7ms/step - loss: 0.4548 - accuracy: 0.8368 - val_loss: 0.6709 - val_accuracy: 0.7770\n",
            "Epoch 21/25\n",
            "1563/1563 [==============================] - 11s 7ms/step - loss: 0.4369 - accuracy: 0.8450 - val_loss: 0.6844 - val_accuracy: 0.7697\n",
            "Epoch 22/25\n",
            "1563/1563 [==============================] - 11s 7ms/step - loss: 0.4266 - accuracy: 0.8495 - val_loss: 0.6800 - val_accuracy: 0.7752\n",
            "Epoch 23/25\n",
            "1563/1563 [==============================] - 11s 7ms/step - loss: 0.4106 - accuracy: 0.8537 - val_loss: 0.6791 - val_accuracy: 0.7747\n",
            "Epoch 24/25\n",
            "1563/1563 [==============================] - 11s 7ms/step - loss: 0.3951 - accuracy: 0.8577 - val_loss: 0.6668 - val_accuracy: 0.7799\n",
            "Epoch 25/25\n",
            "1563/1563 [==============================] - 11s 7ms/step - loss: 0.3813 - accuracy: 0.8623 - val_loss: 0.6737 - val_accuracy: 0.7773\n"
          ],
          "name": "stdout"
        }
      ]
    },
    {
      "cell_type": "code",
      "metadata": {
        "id": "FNK0ogW5NImX",
        "colab_type": "code",
        "colab": {
          "base_uri": "https://localhost:8080/",
          "height": 34
        },
        "outputId": "edec5301-ecc0-4bf1-a1ec-fc09ce1e7457"
      },
      "source": [
        "# Final evaluation of the model\n",
        "scores = model.evaluate(X_test, y_test, verbose=0)\n",
        "print(\"Accuracy: %.2f%%\" % (scores[1]*100))"
      ],
      "execution_count": null,
      "outputs": [
        {
          "output_type": "stream",
          "text": [
            "Accuracy: 77.73%\n"
          ],
          "name": "stdout"
        }
      ]
    },
    {
      "cell_type": "code",
      "metadata": {
        "id": "xSqB4xwMmlxJ",
        "colab_type": "code",
        "colab": {
          "base_uri": "https://localhost:8080/",
          "height": 312
        },
        "outputId": "db8a4663-0600-48d1-de15-68e7b8983c7e"
      },
      "source": [
        "plt.figure()\n",
        "plt.plot(np.arange(0, 25), history.history[\"val_loss\"], label=\"validation loss\")\n",
        "plt.plot(np.arange(0, 25), history.history[\"val_accuracy\"], label=\"validation accuracy\")\n",
        "plt.plot(np.arange(0, 25), history.history[\"loss\"], label=\"training Loss\")\n",
        "plt.plot(np.arange(0, 25), history.history[\"accuracy\"], label=\"training accuracy\")\n",
        "plt.title(\"the loss and accuracy for both training data and validation data\")\n",
        "plt.xlabel(\"Epoch #\")\n",
        "plt.ylabel(\"Loss/Accuracy\")\n",
        "plt.legend(loc=\"best\")"
      ],
      "execution_count": null,
      "outputs": [
        {
          "output_type": "execute_result",
          "data": {
            "text/plain": [
              "<matplotlib.legend.Legend at 0x7ff5ca503278>"
            ]
          },
          "metadata": {
            "tags": []
          },
          "execution_count": 25
        },
        {
          "output_type": "display_data",
          "data": {
            "image/png": "[encoded data removed]",
            "text/plain": [
              "<Figure size 432x288 with 1 Axes>"
            ]
          },
          "metadata": {
            "tags": [],
            "needs_background": "light"
          }
        }
      ]
    },
    {
      "cell_type": "code",
      "metadata": {
        "id": "5OqtHkwSjc8n",
        "colab_type": "code",
        "colab": {}
      },
      "source": [
        "model.save('./model' + '.h5')"
      ],
      "execution_count": null,
      "outputs": []
    },
    {
      "cell_type": "code",
      "metadata": {
        "id": "SQJjdWowmDf-",
        "colab_type": "code",
        "colab": {}
      },
      "source": [
        "import tensorflow as tf \n",
        "model2 = tf.keras.models.load_model('model.h5')"
      ],
      "execution_count": null,
      "outputs": []
    },
    {
      "cell_type": "code",
      "metadata": {
        "id": "teNxBHlZgOXX",
        "colab_type": "code",
        "colab": {
          "base_uri": "https://localhost:8080/",
          "height": 87
        },
        "outputId": "8416c505-b5dc-4977-aed3-82b71d34b62b"
      },
      "source": [
        "for img in range(0,4):\n",
        "  predict_classe = model2.predict_classes(X_test[[img],:])\n",
        "  print(\"predicted classe for image: {\" + str(img) +\"} is: \" + str(predict_classe))"
      ],
      "execution_count": null,
      "outputs": [
        {
          "output_type": "stream",
          "text": [
            "predicted classe for image: {0} is: [5]\n",
            "predicted classe for image: {1} is: [8]\n",
            "predicted classe for image: {2} is: [8]\n",
            "predicted classe for image: {3} is: [0]\n"
          ],
          "name": "stdout"
        }
      ]
    },
    {
      "cell_type": "code",
      "metadata": {
        "id": "ChOSMAbPtu2i",
        "colab_type": "code",
        "colab": {
          "base_uri": "https://localhost:8080/",
          "height": 87
        },
        "outputId": "144deab8-8064-47da-828e-457c43efff0c"
      },
      "source": [
        "for img in range(0,4):\n",
        "  print(y_test1[img])"
      ],
      "execution_count": null,
      "outputs": [
        {
          "output_type": "stream",
          "text": [
            "[3]\n",
            "[8]\n",
            "[8]\n",
            "[0]\n"
          ],
          "name": "stdout"
        }
      ]
    }
  ]
}