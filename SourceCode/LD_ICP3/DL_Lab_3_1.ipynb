{
  "nbformat": 4,
  "nbformat_minor": 0,
  "metadata": {
    "kernelspec": {
      "name": "python3",
      "display_name": "Python 3"
    },
    "language_info": {
      "codemirror_mode": {
        "name": "ipython",
        "version": 3
      },
      "file_extension": ".py",
      "mimetype": "text/x-python",
      "name": "python",
      "nbconvert_exporter": "python",
      "pygments_lexer": "ipython3",
      "version": "3.7.3"
    },
    "colab": {
      "name": "DL_Lab_3_1.ipynb",
      "provenance": [],
      "collapsed_sections": []
    },
    "accelerator": "GPU"
  },
  "cells": [
    {
      "cell_type": "markdown",
      "metadata": {
        "id": "PAL7Mf0Uf51J",
        "colab_type": "text"
      },
      "source": [
        "In class programming:\n",
        "1. In the code provided there are three mistake which stop the code to get run successfully;\n",
        "find those mistakes and explain why they need to be corrected to be able to get the code run\n",
        "2. Add embedding layer to the model, did you experience any improvement?"
      ]
    },
    {
      "cell_type": "code",
      "metadata": {
        "id": "Dg2duvRyf1qD",
        "colab_type": "code",
        "colab": {}
      },
      "source": [
        "from keras.models import Sequential\n",
        "from keras import layers\n",
        "from keras.preprocessing.text import Tokenizer\n",
        "import pandas as pd\n",
        "from sklearn import preprocessing\n",
        "from sklearn.model_selection import train_test_split\n",
        "import io\n",
        "from google.colab import files"
      ],
      "execution_count": 4,
      "outputs": []
    },
    {
      "cell_type": "code",
      "metadata": {
        "id": "QF40NUCPgzby",
        "colab_type": "code",
        "colab": {}
      },
      "source": [
        "df = pd.read_csv('imdb_master.csv',encoding='latin-1')"
      ],
      "execution_count": 5,
      "outputs": []
    },
    {
      "cell_type": "code",
      "metadata": {
        "id": "smDbCS3Jf1qI",
        "colab_type": "code",
        "colab": {
          "base_uri": "https://localhost:8080/",
          "height": 197
        },
        "outputId": "38f1b99b-6caf-4fb4-b091-957a8c24cd3d"
      },
      "source": [
        "df.head(5)"
      ],
      "execution_count": 6,
      "outputs": [
        {
          "output_type": "execute_result",
          "data": {
            "text/html": [
              "<div>\n",
              "<style scoped>\n",
              "    .dataframe tbody tr th:only-of-type {\n",
              "        vertical-align: middle;\n",
              "    }\n",
              "\n",
              "    .dataframe tbody tr th {\n",
              "        vertical-align: top;\n",
              "    }\n",
              "\n",
              "    .dataframe thead th {\n",
              "        text-align: right;\n",
              "    }\n",
              "</style>\n",
              "<table border=\"1\" class=\"dataframe\">\n",
              "  <thead>\n",
              "    <tr style=\"text-align: right;\">\n",
              "      <th></th>\n",
              "      <th>Unnamed: 0</th>\n",
              "      <th>type</th>\n",
              "      <th>review</th>\n",
              "      <th>label</th>\n",
              "      <th>file</th>\n",
              "    </tr>\n",
              "  </thead>\n",
              "  <tbody>\n",
              "    <tr>\n",
              "      <th>0</th>\n",
              "      <td>0</td>\n",
              "      <td>test</td>\n",
              "      <td>Once again Mr. Costner has dragged out a movie...</td>\n",
              "      <td>neg</td>\n",
              "      <td>0_2.txt</td>\n",
              "    </tr>\n",
              "    <tr>\n",
              "      <th>1</th>\n",
              "      <td>1</td>\n",
              "      <td>test</td>\n",
              "      <td>This is an example of why the majority of acti...</td>\n",
              "      <td>neg</td>\n",
              "      <td>10000_4.txt</td>\n",
              "    </tr>\n",
              "    <tr>\n",
              "      <th>2</th>\n",
              "      <td>2</td>\n",
              "      <td>test</td>\n",
              "      <td>First of all I hate those moronic rappers, who...</td>\n",
              "      <td>neg</td>\n",
              "      <td>10001_1.txt</td>\n",
              "    </tr>\n",
              "    <tr>\n",
              "      <th>3</th>\n",
              "      <td>3</td>\n",
              "      <td>test</td>\n",
              "      <td>Not even the Beatles could write songs everyon...</td>\n",
              "      <td>neg</td>\n",
              "      <td>10002_3.txt</td>\n",
              "    </tr>\n",
              "    <tr>\n",
              "      <th>4</th>\n",
              "      <td>4</td>\n",
              "      <td>test</td>\n",
              "      <td>Brass pictures (movies is not a fitting word f...</td>\n",
              "      <td>neg</td>\n",
              "      <td>10003_3.txt</td>\n",
              "    </tr>\n",
              "  </tbody>\n",
              "</table>\n",
              "</div>"
            ],
            "text/plain": [
              "   Unnamed: 0  type  ... label         file\n",
              "0           0  test  ...   neg      0_2.txt\n",
              "1           1  test  ...   neg  10000_4.txt\n",
              "2           2  test  ...   neg  10001_1.txt\n",
              "3           3  test  ...   neg  10002_3.txt\n",
              "4           4  test  ...   neg  10003_3.txt\n",
              "\n",
              "[5 rows x 5 columns]"
            ]
          },
          "metadata": {
            "tags": []
          },
          "execution_count": 6
        }
      ]
    },
    {
      "cell_type": "code",
      "metadata": {
        "id": "y6ia5ARUyRtJ",
        "colab_type": "code",
        "colab": {
          "base_uri": "https://localhost:8080/",
          "height": 87
        },
        "outputId": "a8dead14-bde2-4730-8ce7-0b31dcea9519"
      },
      "source": [
        "df.label.value_counts()"
      ],
      "execution_count": 7,
      "outputs": [
        {
          "output_type": "execute_result",
          "data": {
            "text/plain": [
              "unsup    50000\n",
              "pos      25000\n",
              "neg      25000\n",
              "Name: label, dtype: int64"
            ]
          },
          "metadata": {
            "tags": []
          },
          "execution_count": 7
        }
      ]
    },
    {
      "cell_type": "code",
      "metadata": {
        "id": "IRbI1TpPf1qL",
        "colab_type": "code",
        "colab": {}
      },
      "source": [
        "sentences = df['review'].values\n",
        "y = df['label'].values"
      ],
      "execution_count": 8,
      "outputs": []
    },
    {
      "cell_type": "code",
      "metadata": {
        "id": "rVHF-1RTf1qP",
        "colab_type": "code",
        "colab": {}
      },
      "source": [
        "#tokenizing data\n",
        "tokenizer = Tokenizer(num_words=2000)\n",
        "tokenizer.fit_on_texts(sentences)"
      ],
      "execution_count": 9,
      "outputs": []
    },
    {
      "cell_type": "code",
      "metadata": {
        "id": "2rwWMiOLf1qT",
        "colab_type": "code",
        "colab": {}
      },
      "source": [
        "#getting the vocabulary of data\n",
        "sentences = tokenizer.texts_to_matrix(sentences)"
      ],
      "execution_count": 10,
      "outputs": []
    },
    {
      "cell_type": "code",
      "metadata": {
        "id": "ftcX4KLgf1qW",
        "colab_type": "code",
        "colab": {
          "base_uri": "https://localhost:8080/",
          "height": 34
        },
        "outputId": "5cc27a4e-02f1-43ad-947a-07771738173a"
      },
      "source": [
        "len(sentences[0])"
      ],
      "execution_count": 11,
      "outputs": [
        {
          "output_type": "execute_result",
          "data": {
            "text/plain": [
              "2000"
            ]
          },
          "metadata": {
            "tags": []
          },
          "execution_count": 11
        }
      ]
    },
    {
      "cell_type": "code",
      "metadata": {
        "id": "H3D1efUff1qd",
        "colab_type": "code",
        "colab": {}
      },
      "source": [
        "#convert data to float and scale values between 0 and 1\n",
        "le = preprocessing.LabelEncoder()\n",
        "y = le.fit_transform(y)\n",
        "X_train, X_test, y_train, y_test = train_test_split(sentences, y, test_size=0.25, random_state=1000)"
      ],
      "execution_count": 12,
      "outputs": []
    },
    {
      "cell_type": "code",
      "metadata": {
        "id": "hUbcJgnJf1qj",
        "colab_type": "code",
        "colab": {
          "base_uri": "https://localhost:8080/",
          "height": 212
        },
        "outputId": "4f1747c9-b6ca-48ff-ab9b-22c929f536fb"
      },
      "source": [
        "model = Sequential()\n",
        "model.add(layers.Dense(300,input_dim=2000, activation='relu'))\n",
        "model.add(layers.Dense(3, activation='softmax'))\n",
        "model.compile(loss='sparse_categorical_crossentropy',optimizer='adam',metrics=['acc'])\n",
        "history=model.fit(X_train,y_train, epochs=5, verbose=True, validation_data=(X_test,y_test), batch_size=256)"
      ],
      "execution_count": 13,
      "outputs": [
        {
          "output_type": "stream",
          "text": [
            "Train on 75000 samples, validate on 25000 samples\n",
            "Epoch 1/5\n",
            "75000/75000 [==============================] - 3s 46us/step - loss: 0.8803 - acc: 0.5051 - val_loss: 0.8408 - val_acc: 0.5164\n",
            "Epoch 2/5\n",
            "75000/75000 [==============================] - 2s 22us/step - loss: 0.7872 - acc: 0.5813 - val_loss: 0.8440 - val_acc: 0.5204\n",
            "Epoch 3/5\n",
            "75000/75000 [==============================] - 2s 23us/step - loss: 0.6819 - acc: 0.6809 - val_loss: 0.8696 - val_acc: 0.5138\n",
            "Epoch 4/5\n",
            "75000/75000 [==============================] - 2s 23us/step - loss: 0.4903 - acc: 0.8186 - val_loss: 0.9696 - val_acc: 0.5010\n",
            "Epoch 5/5\n",
            "75000/75000 [==============================] - 2s 24us/step - loss: 0.2855 - acc: 0.9273 - val_loss: 1.0668 - val_acc: 0.4941\n"
          ],
          "name": "stdout"
        }
      ]
    },
    {
      "cell_type": "code",
      "metadata": {
        "id": "ZVj_jigp9ict",
        "colab_type": "code",
        "colab": {
          "base_uri": "https://localhost:8080/",
          "height": 52
        },
        "outputId": "3cb13f1b-5782-4dd7-e3e5-bda1cda946ce"
      },
      "source": [
        "[test_loss, test_acc] = model.evaluate(X_test,y_test)\n",
        "print(\"Evaluation result on Test Data : Loss = {}, accuracy = {}\".format(test_loss, test_acc))"
      ],
      "execution_count": 14,
      "outputs": [
        {
          "output_type": "stream",
          "text": [
            "25000/25000 [==============================] - 1s 49us/step\n",
            "Evaluation result on Test Data : Loss = 1.066784699382782, accuracy = 0.4940800070762634\n"
          ],
          "name": "stdout"
        }
      ]
    },
    {
      "cell_type": "code",
      "metadata": {
        "id": "pnnnQ6JkDaoJ",
        "colab_type": "code",
        "colab": {
          "base_uri": "https://localhost:8080/",
          "height": 312
        },
        "outputId": "f2cd2eb3-b132-49a3-8af6-28858cbeeee7"
      },
      "source": [
        "import matplotlib.pyplot as plt\n",
        "import numpy as np\n",
        "\n",
        "#plot the loss and accuracy for both training data and validation data. \n",
        "plt.figure()\n",
        "plt.plot(np.arange(0, 5), history.history[\"val_loss\"], label=\"validation loss\")\n",
        "plt.plot(np.arange(0, 5), history.history[\"val_acc\"], label=\"validation accuracy\")\n",
        "plt.plot(np.arange(0, 5), history.history[\"loss\"], label=\"training Loss\")\n",
        "plt.plot(np.arange(0, 5), history.history[\"acc\"], label=\"training accuracy\")\n",
        "plt.title(\"the loss and accuracy for both training data and validation data\")\n",
        "plt.xlabel(\"Epoch #\")\n",
        "plt.ylabel(\"Loss/Accuracy\")\n",
        "plt.legend(loc=\"best\")"
      ],
      "execution_count": 15,
      "outputs": [
        {
          "output_type": "execute_result",
          "data": {
            "text/plain": [
              "<matplotlib.legend.Legend at 0x7f1f83d2dba8>"
            ]
          },
          "metadata": {
            "tags": []
          },
          "execution_count": 15
        },
        {
          "output_type": "display_data",
          "data": {
            "image/png": "[encoded data removed]",
            "text/plain": [
              "<Figure size 432x288 with 1 Axes>"
            ]
          },
          "metadata": {
            "tags": [],
            "needs_background": "light"
          }
        }
      ]
    },
    {
      "cell_type": "code",
      "metadata": {
        "id": "oTXatAgaPVzO",
        "colab_type": "code",
        "colab": {
          "base_uri": "https://localhost:8080/",
          "height": 52
        },
        "outputId": "da9c2a2c-a52a-4eb9-91c0-f744e5e8267e"
      },
      "source": [
        "predict_classe = model.predict_classes(X_test[[10],:])\n",
        "print(predict_classe[0])\n",
        "print(y_test[10])"
      ],
      "execution_count": 22,
      "outputs": [
        {
          "output_type": "stream",
          "text": [
            "0\n",
            "0\n"
          ],
          "name": "stdout"
        }
      ]
    },
    {
      "cell_type": "code",
      "metadata": {
        "id": "CkAKDpPSJ72W",
        "colab_type": "code",
        "colab": {
          "base_uri": "https://localhost:8080/",
          "height": 52
        },
        "outputId": "1324775f-7ab0-4be3-eb7c-c6570c82b689"
      },
      "source": [
        "predict_classe = model.predict_classes(X_test[[5],:])\n",
        "print(predict_classe[0])\n",
        "print(y_test[5])"
      ],
      "execution_count": 17,
      "outputs": [
        {
          "output_type": "stream",
          "text": [
            "2\n",
            "2\n"
          ],
          "name": "stdout"
        }
      ]
    },
    {
      "cell_type": "code",
      "metadata": {
        "id": "lGvpXAUHCC1f",
        "colab_type": "code",
        "colab": {
          "base_uri": "https://localhost:8080/",
          "height": 283
        },
        "outputId": "f0695057-3dd9-4764-b02d-1db879445d52"
      },
      "source": [
        "from keras.layers import Embedding, Flatten\n",
        "#print(input_dim)\n",
        "model2 = Sequential()\n",
        "model2.add(Embedding(2000, 50, input_length=2000))\n",
        "model2.add(Flatten())\n",
        "model2.add(layers.Dense(300,input_dim=2000, activation='relu'))\n",
        "model2.add(layers.Dense(3,activation='softmax'))\n",
        "\n",
        "model2.compile(loss='sparse_categorical_crossentropy',optimizer='adam',metrics=['acc'])\n",
        "\n",
        "history2=model2.fit(X_train,y_train, epochs=5, verbose=True, validation_data=(X_test,y_test), batch_size=256)\n",
        "\n",
        "[test_loss, test_acc] = model2.evaluate(X_test, y_test)\n",
        "print(\"Evaluation result on Test Data : Loss = {}, accuracy = {}\".format(test_loss, test_acc))\n"
      ],
      "execution_count": 18,
      "outputs": [
        {
          "output_type": "stream",
          "text": [
            "/usr/local/lib/python3.6/dist-packages/tensorflow/python/framework/indexed_slices.py:434: UserWarning: Converting sparse IndexedSlices to a dense Tensor of unknown shape. This may consume a large amount of memory.\n",
            "  \"Converting sparse IndexedSlices to a dense Tensor of unknown shape. \"\n"
          ],
          "name": "stderr"
        },
        {
          "output_type": "stream",
          "text": [
            "Train on 75000 samples, validate on 25000 samples\n",
            "Epoch 1/5\n",
            "75000/75000 [==============================] - 12s 154us/step - loss: 0.9776 - acc: 0.4916 - val_loss: 0.8560 - val_acc: 0.5144\n",
            "Epoch 2/5\n",
            "75000/75000 [==============================] - 12s 154us/step - loss: 0.8347 - acc: 0.5275 - val_loss: 0.8389 - val_acc: 0.5151\n",
            "Epoch 3/5\n",
            "75000/75000 [==============================] - 12s 156us/step - loss: 0.8088 - acc: 0.5491 - val_loss: 0.8408 - val_acc: 0.5131\n",
            "Epoch 4/5\n",
            "75000/75000 [==============================] - 12s 157us/step - loss: 0.7882 - acc: 0.5703 - val_loss: 0.8444 - val_acc: 0.5189\n",
            "Epoch 5/5\n",
            "75000/75000 [==============================] - 12s 159us/step - loss: 0.7555 - acc: 0.5999 - val_loss: 0.8589 - val_acc: 0.5163\n",
            "25000/25000 [==============================] - 2s 75us/step\n",
            "Evaluation result on Test Data : Loss = 0.8588640796279907, accuracy = 0.516319990158081\n"
          ],
          "name": "stdout"
        }
      ]
    },
    {
      "cell_type": "code",
      "metadata": {
        "id": "IaGJzyAG7Fus",
        "colab_type": "code",
        "colab": {}
      },
      "source": [
        ""
      ],
      "execution_count": 18,
      "outputs": []
    },
    {
      "cell_type": "code",
      "metadata": {
        "id": "Xlid_QqZOqx1",
        "colab_type": "code",
        "colab": {
          "base_uri": "https://localhost:8080/",
          "height": 312
        },
        "outputId": "140483f1-b985-4a7b-92b7-47a68faa8ddb"
      },
      "source": [
        "plt.figure()\n",
        "plt.plot(np.arange(0, 5), history2.history[\"val_loss\"], label=\"validation loss\")\n",
        "plt.plot(np.arange(0, 5), history2.history[\"val_acc\"], label=\"validation accuracy\")\n",
        "plt.plot(np.arange(0, 5), history2.history[\"loss\"], label=\"training Loss\")\n",
        "plt.plot(np.arange(0, 5), history2.history[\"acc\"], label=\"training accuracy\")\n",
        "plt.title(\"the loss and accuracy for both training data and validation data\")\n",
        "plt.xlabel(\"Epoch #\")\n",
        "plt.ylabel(\"Loss/Accuracy\")\n",
        "plt.legend(loc=\"best\")"
      ],
      "execution_count": 19,
      "outputs": [
        {
          "output_type": "execute_result",
          "data": {
            "text/plain": [
              "<matplotlib.legend.Legend at 0x7f1f83867438>"
            ]
          },
          "metadata": {
            "tags": []
          },
          "execution_count": 19
        },
        {
          "output_type": "display_data",
          "data": {
            "image/png": "[encoded data removed]",
            "text/plain": [
              "<Figure size 432x288 with 1 Axes>"
            ]
          },
          "metadata": {
            "tags": [],
            "needs_background": "light"
          }
        }
      ]
    },
    {
      "cell_type": "code",
      "metadata": {
        "id": "kw82iEIpJ4SW",
        "colab_type": "code",
        "colab": {
          "base_uri": "https://localhost:8080/",
          "height": 52
        },
        "outputId": "4560b2d7-4b50-4d65-a604-f4c5331cfcac"
      },
      "source": [
        "predict_classe2 = model2.predict_classes(X_test[[10],:])\n",
        "print(predict_classe2[0])\n",
        "print(y_test[10])"
      ],
      "execution_count": 23,
      "outputs": [
        {
          "output_type": "stream",
          "text": [
            "0\n",
            "0\n"
          ],
          "name": "stdout"
        }
      ]
    }
  ]
}