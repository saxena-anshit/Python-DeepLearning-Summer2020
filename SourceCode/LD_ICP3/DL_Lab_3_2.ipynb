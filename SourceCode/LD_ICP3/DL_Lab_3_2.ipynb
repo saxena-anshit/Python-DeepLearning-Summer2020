{
  "nbformat": 4,
  "nbformat_minor": 0,
  "metadata": {
    "colab": {
      "name": "DL_Lab_3_2.ipynb",
      "provenance": [],
      "machine_shape": "hm"
    },
    "kernelspec": {
      "name": "python3",
      "display_name": "Python 3"
    },
    "accelerator": "GPU"
  },
  "cells": [
    {
      "cell_type": "code",
      "metadata": {
        "id": "cqfI57VTOUDn",
        "colab_type": "code",
        "colab": {}
      },
      "source": [
        "from sklearn.datasets import fetch_20newsgroups\n",
        "from keras.models import Sequential\n",
        "from keras import layers\n",
        "from keras.preprocessing.text import Tokenizer\n",
        "import pandas as pd\n",
        "from sklearn import preprocessing\n",
        "from sklearn.model_selection import train_test_split\n",
        "from sklearn.feature_extraction.text import CountVectorizer, TfidfVectorizer\n",
        "from sklearn.feature_extraction.text import TfidfTransformer\n",
        "from sklearn import metrics\n",
        "from sklearn.pipeline import Pipeline\n",
        "from sklearn.naive_bayes import MultinomialNB\n",
        "\n",
        "#To fetch 20newsgroups training dataset\n",
        "twenty_train = fetch_20newsgroups(subset='train', shuffle=True)\n",
        "\n",
        "#To get the data labels and save them in y\n",
        "y = twenty_train.target\n",
        "\n",
        "# To assign the text data into sentences variable\n",
        "sentences = twenty_train.data\n",
        "\n",
        "#To Tokenize the sentences into words we set up the number of words to be 2000\n",
        "tokenizer = Tokenizer(num_words=2000)\n",
        "tokenizer.fit_on_texts(sentences)\n",
        "# To represent the sentences as a numerical data we grt the text matrix of the sentences  \n",
        "sentences = tokenizer.texts_to_matrix(sentences)\n",
        "\n",
        "#To encode and process our data labels\n",
        "le = preprocessing.LabelEncoder()\n",
        "y = le.fit_transform(y)\n"
      ],
      "execution_count": 8,
      "outputs": []
    },
    {
      "cell_type": "code",
      "metadata": {
        "id": "B68Tn-w8OcUq",
        "colab_type": "code",
        "colab": {}
      },
      "source": [
        "# To split our dataset into testing and training\n",
        "X_train, X_test, y_train, y_test = train_test_split(sentences, y, test_size=0.25, random_state=1000)"
      ],
      "execution_count": 9,
      "outputs": []
    },
    {
      "cell_type": "code",
      "metadata": {
        "id": "L9YcWtl5VBDF",
        "colab_type": "code",
        "colab": {
          "base_uri": "https://localhost:8080/",
          "height": 390
        },
        "outputId": "57642504-04d3-408f-a4ee-83790aeed736"
      },
      "source": [
        "# First we create layers of size 2000 for input layer and 128 for the hidden layer and 20 for the output we set the epochs to 50\n",
        "model = Sequential()\n",
        "model.add(layers.Dense(128,input_dim=2000, activation='relu'))\n",
        "model.add(layers.Dense(20, activation='softmax'))\n",
        "model.compile(loss='sparse_categorical_crossentropy',optimizer='adam',metrics=['acc'])\n",
        "history1=model.fit(X_train,y_train, epochs=10, verbose=True, validation_data=(X_test,y_test), batch_size=256)\n"
      ],
      "execution_count": 10,
      "outputs": [
        {
          "output_type": "stream",
          "text": [
            "Train on 8485 samples, validate on 2829 samples\n",
            "Epoch 1/10\n",
            "8485/8485 [==============================] - 0s 30us/step - loss: 2.4608 - acc: 0.3776 - val_loss: 1.7671 - val_acc: 0.6614\n",
            "Epoch 2/10\n",
            "8485/8485 [==============================] - 0s 22us/step - loss: 1.2594 - acc: 0.7811 - val_loss: 1.0968 - val_acc: 0.7681\n",
            "Epoch 3/10\n",
            "8485/8485 [==============================] - 0s 22us/step - loss: 0.7666 - acc: 0.8616 - val_loss: 0.8422 - val_acc: 0.8052\n",
            "Epoch 4/10\n",
            "8485/8485 [==============================] - 0s 22us/step - loss: 0.5456 - acc: 0.8996 - val_loss: 0.7277 - val_acc: 0.8180\n",
            "Epoch 5/10\n",
            "8485/8485 [==============================] - 0s 22us/step - loss: 0.4178 - acc: 0.9225 - val_loss: 0.6552 - val_acc: 0.8293\n",
            "Epoch 6/10\n",
            "8485/8485 [==============================] - 0s 22us/step - loss: 0.3269 - acc: 0.9435 - val_loss: 0.6188 - val_acc: 0.8303\n",
            "Epoch 7/10\n",
            "8485/8485 [==============================] - 0s 22us/step - loss: 0.2634 - acc: 0.9597 - val_loss: 0.5918 - val_acc: 0.8342\n",
            "Epoch 8/10\n",
            "8485/8485 [==============================] - 0s 22us/step - loss: 0.2161 - acc: 0.9702 - val_loss: 0.5721 - val_acc: 0.8310\n",
            "Epoch 9/10\n",
            "8485/8485 [==============================] - 0s 21us/step - loss: 0.1769 - acc: 0.9789 - val_loss: 0.5665 - val_acc: 0.8335\n",
            "Epoch 10/10\n",
            "8485/8485 [==============================] - 0s 23us/step - loss: 0.1473 - acc: 0.9844 - val_loss: 0.5628 - val_acc: 0.8321\n"
          ],
          "name": "stdout"
        }
      ]
    },
    {
      "cell_type": "code",
      "metadata": {
        "id": "gEI088Ycc37g",
        "colab_type": "code",
        "colab": {
          "base_uri": "https://localhost:8080/",
          "height": 52
        },
        "outputId": "34210d38-90f9-407b-9250-94d1c772fd54"
      },
      "source": [
        "# To get the Evaluation result on Test Data\n",
        "[test_loss, test_acc] = model.evaluate(X_test,y_test)\n",
        "print(\"Evaluation result on Test Data : Loss = {}, accuracy = {}\".format(test_loss, test_acc))"
      ],
      "execution_count": 11,
      "outputs": [
        {
          "output_type": "stream",
          "text": [
            "2829/2829 [==============================] - 0s 46us/step\n",
            "Evaluation result on Test Data : Loss = 0.562834203432878, accuracy = 0.8320961594581604\n"
          ],
          "name": "stdout"
        }
      ]
    },
    {
      "cell_type": "code",
      "metadata": {
        "id": "spAF00CvO-jA",
        "colab_type": "code",
        "colab": {
          "base_uri": "https://localhost:8080/",
          "height": 52
        },
        "outputId": "7b0f4a7c-e90b-4c97-917a-215f8c9c2fc4"
      },
      "source": [
        "predict_classe = model.predict_classes(X_test[[1000],:])\n",
        "print(predict_classe[0])\n",
        "print(y_test[1000])"
      ],
      "execution_count": 17,
      "outputs": [
        {
          "output_type": "stream",
          "text": [
            "19\n",
            "19\n"
          ],
          "name": "stdout"
        }
      ]
    },
    {
      "cell_type": "code",
      "metadata": {
        "id": "CNvaTdNUdTEF",
        "colab_type": "code",
        "colab": {
          "base_uri": "https://localhost:8080/",
          "height": 312
        },
        "outputId": "3dc2712b-5944-4405-c817-935e5e24e226"
      },
      "source": [
        "\n",
        "import matplotlib.pyplot as plt\n",
        "import numpy as np\n",
        "\n",
        "\n",
        "#To plot the loss and accuracy for both training data and validation data. \n",
        "plt.figure()\n",
        "plt.plot(np.arange(0, 10), history1.history[\"val_loss\"], label=\"validation loss\")\n",
        "plt.plot(np.arange(0, 10), history1.history[\"val_acc\"], label=\"validation accuracy\")\n",
        "plt.plot(np.arange(0, 10), history1.history[\"loss\"], label=\"training Loss\")\n",
        "plt.plot(np.arange(0, 10), history1.history[\"acc\"], label=\"training accuracy\")\n",
        "plt.title(\"the loss and accuracy for both training data and validation data\")\n",
        "plt.xlabel(\"Epoch #\")\n",
        "plt.ylabel(\"Loss/Accuracy\")\n",
        "plt.legend(loc=\"best\")"
      ],
      "execution_count": 13,
      "outputs": [
        {
          "output_type": "execute_result",
          "data": {
            "text/plain": [
              "<matplotlib.legend.Legend at 0x7f92b2ebff98>"
            ]
          },
          "metadata": {
            "tags": []
          },
          "execution_count": 13
        },
        {
          "output_type": "display_data",
          "data": {
            "image/png": "[encoded data removed]",
            "text/plain": [
              "<Figure size 432x288 with 1 Axes>"
            ]
          },
          "metadata": {
            "tags": [],
            "needs_background": "light"
          }
        }
      ]
    },
    {
      "cell_type": "code",
      "metadata": {
        "id": "PHs-gUL8eTXQ",
        "colab_type": "code",
        "colab": {
          "base_uri": "https://localhost:8080/",
          "height": 461
        },
        "outputId": "664ed0cc-dc92-47d2-9944-4f09b5dce127"
      },
      "source": [
        "#We add embedding layer with flatten to check if the accuracy improved\n",
        "from keras.layers import Embedding, Flatten\n",
        "model2 = Sequential()\n",
        "model2.add(Embedding(2000, 50, input_length=2000))\n",
        "model2.add(Flatten())\n",
        "model2.add(layers.Dense(128,input_dim=2000, activation='relu'))\n",
        "model2.add(layers.Dense(20,activation='softmax'))\n",
        "\n",
        "model2.compile(loss='sparse_categorical_crossentropy',optimizer='adam',metrics=['acc'])\n",
        "\n",
        "history2=model2.fit(X_train,y_train, epochs=10, verbose=True, validation_data=(X_test,y_test), batch_size=256)\n",
        "\n",
        "[test_loss, test_acc] = model2.evaluate(X_test, y_test)\n",
        "print(\"Evaluation result on Test Data : Loss = {}, accuracy = {}\".format(test_loss, test_acc))"
      ],
      "execution_count": 14,
      "outputs": [
        {
          "output_type": "stream",
          "text": [
            "/usr/local/lib/python3.6/dist-packages/tensorflow/python/framework/indexed_slices.py:434: UserWarning: Converting sparse IndexedSlices to a dense Tensor of unknown shape. This may consume a large amount of memory.\n",
            "  \"Converting sparse IndexedSlices to a dense Tensor of unknown shape. \"\n"
          ],
          "name": "stderr"
        },
        {
          "output_type": "stream",
          "text": [
            "Train on 8485 samples, validate on 2829 samples\n",
            "Epoch 1/10\n",
            "8485/8485 [==============================] - 1s 160us/step - loss: 3.1389 - acc: 0.0805 - val_loss: 2.8821 - val_acc: 0.1138\n",
            "Epoch 2/10\n",
            "8485/8485 [==============================] - 1s 146us/step - loss: 2.7129 - acc: 0.2001 - val_loss: 2.5138 - val_acc: 0.2096\n",
            "Epoch 3/10\n",
            "8485/8485 [==============================] - 1s 146us/step - loss: 2.0420 - acc: 0.4858 - val_loss: 1.6977 - val_acc: 0.5864\n",
            "Epoch 4/10\n",
            "8485/8485 [==============================] - 1s 146us/step - loss: 1.1929 - acc: 0.7060 - val_loss: 1.0574 - val_acc: 0.7225\n",
            "Epoch 5/10\n",
            "8485/8485 [==============================] - 1s 146us/step - loss: 0.7111 - acc: 0.8160 - val_loss: 0.8803 - val_acc: 0.7565\n",
            "Epoch 6/10\n",
            "8485/8485 [==============================] - 1s 146us/step - loss: 0.4993 - acc: 0.8722 - val_loss: 0.8294 - val_acc: 0.7515\n",
            "Epoch 7/10\n",
            "8485/8485 [==============================] - 1s 146us/step - loss: 0.3752 - acc: 0.9057 - val_loss: 0.7477 - val_acc: 0.7798\n",
            "Epoch 8/10\n",
            "8485/8485 [==============================] - 1s 146us/step - loss: 0.2955 - acc: 0.9273 - val_loss: 0.7138 - val_acc: 0.7943\n",
            "Epoch 9/10\n",
            "8485/8485 [==============================] - 1s 146us/step - loss: 0.2178 - acc: 0.9517 - val_loss: 0.7127 - val_acc: 0.8006\n",
            "Epoch 10/10\n",
            "8485/8485 [==============================] - 1s 146us/step - loss: 0.1676 - acc: 0.9676 - val_loss: 0.7183 - val_acc: 0.7982\n",
            "2829/2829 [==============================] - 0s 69us/step\n",
            "Evaluation result on Test Data : Loss = 0.7183022423446199, accuracy = 0.7981619238853455\n"
          ],
          "name": "stdout"
        }
      ]
    },
    {
      "cell_type": "code",
      "metadata": {
        "id": "3bNEHNNvQCP3",
        "colab_type": "code",
        "colab": {
          "base_uri": "https://localhost:8080/",
          "height": 312
        },
        "outputId": "e0d0f951-1b8f-4e7b-f78a-4b897ff7f59d"
      },
      "source": [
        "#To plot the loss and accuracy for both training data and validation data. \n",
        "plt.figure()\n",
        "plt.plot(np.arange(0, 10), history2.history[\"val_loss\"], label=\"validation loss\")\n",
        "plt.plot(np.arange(0, 10), history2.history[\"val_acc\"], label=\"validation accuracy\")\n",
        "plt.plot(np.arange(0, 10), history2.history[\"loss\"], label=\"training Loss\")\n",
        "plt.plot(np.arange(0, 10), history2.history[\"acc\"], label=\"training accuracy\")\n",
        "plt.title(\"the loss and accuracy for both training data and validation data\")\n",
        "plt.xlabel(\"Epoch #\")\n",
        "plt.ylabel(\"Loss/Accuracy\")\n",
        "plt.legend(loc=\"best\")"
      ],
      "execution_count": 15,
      "outputs": [
        {
          "output_type": "execute_result",
          "data": {
            "text/plain": [
              "<matplotlib.legend.Legend at 0x7f92b2085da0>"
            ]
          },
          "metadata": {
            "tags": []
          },
          "execution_count": 15
        },
        {
          "output_type": "display_data",
          "data": {
            "image/png": "[encoded data removed]",
            "text/plain": [
              "<Figure size 432x288 with 1 Axes>"
            ]
          },
          "metadata": {
            "tags": [],
            "needs_background": "light"
          }
        }
      ]
    },
    {
      "cell_type": "code",
      "metadata": {
        "id": "VmtrYYgtPKgO",
        "colab_type": "code",
        "colab": {
          "base_uri": "https://localhost:8080/",
          "height": 52
        },
        "outputId": "27394269-a812-4671-b27b-f9cbaaae120e"
      },
      "source": [
        "predict_classe2 = model2.predict_classes(X_test[[1000],:])\n",
        "print(predict_classe2[0])\n",
        "print(y_test[1000])"
      ],
      "execution_count": 16,
      "outputs": [
        {
          "output_type": "stream",
          "text": [
            "19\n",
            "19\n"
          ],
          "name": "stdout"
        }
      ]
    }
  ]
}