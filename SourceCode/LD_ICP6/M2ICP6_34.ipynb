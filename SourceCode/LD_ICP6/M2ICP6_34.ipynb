{
  "nbformat": 4,
  "nbformat_minor": 0,
  "metadata": {
    "colab": {
      "name": "M2ICP6_34.ipynb",
      "provenance": []
    },
    "kernelspec": {
      "name": "python3",
      "display_name": "Python 3"
    },
    "accelerator": "GPU"
  },
  "cells": [
    {
      "cell_type": "markdown",
      "metadata": {
        "id": "view-in-github",
        "colab_type": "text"
      },
      "source": [
        "<a href=\"https://colab.research.google.com/github/mohzary/python-deep-learning-f19/blob/master/M2ICP7/M2ICP7_34.ipynb\" target=\"_parent\"><img src=\"https://colab.research.google.com/assets/colab-badge.svg\" alt=\"Open In Colab\"/></a>"
      ]
    },
    {
      "cell_type": "code",
      "metadata": {
        "id": "XBrUt6oXeE3D",
        "colab_type": "code",
        "colab": {
          "base_uri": "https://localhost:8080/",
          "height": 34
        },
        "outputId": "b30d2547-3988-4c9b-983a-14e1ca2cb9dc"
      },
      "source": [
        "from keras.layers import Input, Dense\n",
        "from keras.models import Model\n",
        "\n",
        "# this is the size of our encoded representations\n",
        "encoding_dim = 32  # 32 floats -> compression of factor 24.5, assuming the input is 784 floats\n",
        "\n",
        "# this is our input placeholder\n",
        "input_img = Input(shape=(784,))\n",
        "# \"encoded\" is the encoded representation of the input\n",
        "encoded = Dense(encoding_dim, activation='relu')(input_img)\n",
        "# \"decoded\" is the lossy reconstruction of the input\n",
        "decoded = Dense(784, activation='sigmoid')(encoded)\n",
        "# this model maps an input to its reconstruction\n",
        "autoencoder = Model(input_img, decoded)\n",
        "\n",
        "# this model maps an input to its encoded representation\n",
        "encoder = Model(input_img, encoded)\n",
        "# create a placeholder for an encoded (32-dimensional) input\n",
        "encoded_input = Input(shape=(encoding_dim,))\n",
        "# retrieve the last layer of the autoencoder model\n",
        "decoder_layer = autoencoder.layers[-1]\n",
        "# create the decoder model\n",
        "decoder = Model(encoded_input, decoder_layer(encoded_input))\n",
        "\n",
        "# this model maps an input to its encoded representation\n",
        "autoencoder.compile(optimizer='adadelta', loss='binary_crossentropy', metrics=['accuracy'])"
      ],
      "execution_count": null,
      "outputs": [
        {
          "output_type": "stream",
          "text": [
            "Using TensorFlow backend.\n"
          ],
          "name": "stderr"
        }
      ]
    },
    {
      "cell_type": "code",
      "metadata": {
        "id": "mCcK0Ddvembf",
        "colab_type": "code",
        "colab": {
          "base_uri": "https://localhost:8080/",
          "height": 158
        },
        "outputId": "9164f06c-bd5a-4330-99b7-6cbb5c6b9281"
      },
      "source": [
        "from keras.datasets import fashion_mnist\n",
        "import numpy as np\n",
        "(x_train, _), (x_test, _) = fashion_mnist.load_data()\n",
        "x_train = x_train.astype('float32') / 255.\n",
        "x_test = x_test.astype('float32') / 255.\n",
        "x_train = x_train.reshape((len(x_train), np.prod(x_train.shape[1:])))\n",
        "x_test = x_test.reshape((len(x_test), np.prod(x_test.shape[1:])))"
      ],
      "execution_count": null,
      "outputs": [
        {
          "output_type": "stream",
          "text": [
            "Downloading data from http://fashion-mnist.s3-website.eu-central-1.amazonaws.com/train-labels-idx1-ubyte.gz\n",
            "32768/29515 [=================================] - 0s 8us/step\n",
            "Downloading data from http://fashion-mnist.s3-website.eu-central-1.amazonaws.com/train-images-idx3-ubyte.gz\n",
            "26427392/26421880 [==============================] - 4s 0us/step\n",
            "Downloading data from http://fashion-mnist.s3-website.eu-central-1.amazonaws.com/t10k-labels-idx1-ubyte.gz\n",
            "8192/5148 [===============================================] - 0s 0us/step\n",
            "Downloading data from http://fashion-mnist.s3-website.eu-central-1.amazonaws.com/t10k-images-idx3-ubyte.gz\n",
            "4423680/4422102 [==============================] - 2s 0us/step\n"
          ],
          "name": "stdout"
        }
      ]
    },
    {
      "cell_type": "code",
      "metadata": {
        "id": "AmQ_nZP0etRX",
        "colab_type": "code",
        "colab": {
          "base_uri": "https://localhost:8080/",
          "height": 390
        },
        "outputId": "1582106d-3b98-4322-8285-5c14f2685c9a"
      },
      "source": [
        "#introducing noise\n",
        "noise_factor = 0.5\n",
        "x_train_noisy = x_train + noise_factor * np.random.normal(loc=0.0, scale=1.0, size=x_train.shape)\n",
        "x_test_noisy = x_test + noise_factor * np.random.normal(loc=0.0, scale=1.0, size=x_test.shape)\n",
        "\n",
        "history = autoencoder.fit(x_train_noisy, x_train,\n",
        "                epochs=10,\n",
        "                batch_size=256,\n",
        "                shuffle=True,\n",
        "                validation_data=(x_test_noisy, x_test_noisy))\n"
      ],
      "execution_count": null,
      "outputs": [
        {
          "output_type": "stream",
          "text": [
            "Train on 60000 samples, validate on 10000 samples\n",
            "Epoch 1/10\n",
            "60000/60000 [==============================] - 3s 53us/step - loss: 0.5369 - accuracy: 0.4406 - val_loss: 0.4576 - val_accuracy: 0.0000e+00\n",
            "Epoch 2/10\n",
            "60000/60000 [==============================] - 1s 24us/step - loss: 0.4283 - accuracy: 0.4876 - val_loss: 0.4045 - val_accuracy: 0.0000e+00\n",
            "Epoch 3/10\n",
            "60000/60000 [==============================] - 1s 24us/step - loss: 0.4001 - accuracy: 0.4903 - val_loss: 0.3871 - val_accuracy: 0.0000e+00\n",
            "Epoch 4/10\n",
            "60000/60000 [==============================] - 1s 24us/step - loss: 0.3849 - accuracy: 0.4932 - val_loss: 0.3711 - val_accuracy: 0.0000e+00\n",
            "Epoch 5/10\n",
            "60000/60000 [==============================] - 1s 24us/step - loss: 0.3711 - accuracy: 0.4959 - val_loss: 0.3572 - val_accuracy: 0.0000e+00\n",
            "Epoch 6/10\n",
            "60000/60000 [==============================] - 2s 25us/step - loss: 0.3601 - accuracy: 0.4980 - val_loss: 0.3463 - val_accuracy: 0.0000e+00\n",
            "Epoch 7/10\n",
            "60000/60000 [==============================] - 1s 25us/step - loss: 0.3516 - accuracy: 0.4995 - val_loss: 0.3378 - val_accuracy: 0.0000e+00\n",
            "Epoch 8/10\n",
            "60000/60000 [==============================] - 1s 25us/step - loss: 0.3452 - accuracy: 0.5005 - val_loss: 0.3311 - val_accuracy: 0.0000e+00\n",
            "Epoch 9/10\n",
            "60000/60000 [==============================] - 1s 24us/step - loss: 0.3401 - accuracy: 0.5012 - val_loss: 0.3257 - val_accuracy: 0.0000e+00\n",
            "Epoch 10/10\n",
            "60000/60000 [==============================] - 1s 25us/step - loss: 0.3359 - accuracy: 0.5018 - val_loss: 0.3212 - val_accuracy: 0.0000e+00\n"
          ],
          "name": "stdout"
        }
      ]
    },
    {
      "cell_type": "code",
      "metadata": {
        "id": "wyeiQrJyfPxj",
        "colab_type": "code",
        "colab": {
          "base_uri": "https://localhost:8080/",
          "height": 70
        },
        "outputId": "0d511fde-9d17-4f88-be8c-cca5c53b81af"
      },
      "source": [
        "#The evaluation satge to get the final accuraccy result of our model\n",
        "score,acc = autoencoder.evaluate(x_test_noisy, x_test_noisy,verbose=2)\n",
        "print(\"Loss Score: %.2f\" % (score))\n",
        "print(\"Accuracy: %.2f%%\" % (acc*100))\n",
        "print(autoencoder.metrics_names)"
      ],
      "execution_count": null,
      "outputs": [
        {
          "output_type": "stream",
          "text": [
            "Loss Score: 0.32\n",
            "Accuracy: 0.00%\n",
            "['loss', 'accuracy']\n"
          ],
          "name": "stdout"
        }
      ]
    },
    {
      "cell_type": "code",
      "metadata": {
        "id": "H2GRrWDXfVjB",
        "colab_type": "code",
        "colab": {
          "base_uri": "https://localhost:8080/",
          "height": 312
        },
        "outputId": "fc46f805-8e35-403f-ef5d-c920f7613a7b"
      },
      "source": [
        "import matplotlib.pyplot as plt\n",
        "#To plot the loss and accuracy for both training data and validation data. \n",
        "plt.figure()\n",
        "plt.plot(np.arange(0, 10), history.history[\"val_loss\"], label=\"validation loss\")\n",
        "plt.plot(np.arange(0, 10), history.history[\"val_accuracy\"], label=\"validation accuracy\")\n",
        "plt.plot(np.arange(0, 10), history.history[\"loss\"], label=\"training Loss\")\n",
        "plt.plot(np.arange(0, 10), history.history[\"accuracy\"], label=\"training accuracy\")\n",
        "plt.title(\"the loss and accuracy for both training data and validation data\")\n",
        "plt.xlabel(\"Epoch #\")\n",
        "plt.ylabel(\"Loss/Accuracy\")\n",
        "plt.legend(loc=\"best\")"
      ],
      "execution_count": null,
      "outputs": [
        {
          "output_type": "execute_result",
          "data": {
            "text/plain": [
              "<matplotlib.legend.Legend at 0x7fd310058ac8>"
            ]
          },
          "metadata": {
            "tags": []
          },
          "execution_count": 5
        },
        {
          "output_type": "display_data",
          "data": {
            "image/png": "[encoded data removed]",
            "text/plain": [
              "<Figure size 432x288 with 1 Axes>"
            ]
          },
          "metadata": {
            "tags": [],
            "needs_background": "light"
          }
        }
      ]
    },
    {
      "cell_type": "code",
      "metadata": {
        "id": "lAwwXVj7fmof",
        "colab_type": "code",
        "colab": {
          "base_uri": "https://localhost:8080/",
          "height": 814
        },
        "outputId": "82d6f98d-fa84-416d-f66b-04ec6f783373"
      },
      "source": [
        "encoded_imgs =  encoder.predict(x_test[[50],:])\n",
        "decoded_imgs = decoder.predict(encoded_imgs)\n",
        "\n",
        "print(\"The input image: \")\n",
        "plt.imshow(x_test[50].reshape((28, 28)), cmap = 'gray')\n",
        "plt.show()\n",
        "\n",
        "#x_test_noisy\n",
        "\n",
        "print(\"The input image with noise: \")\n",
        "plt.imshow(x_test_noisy[50].reshape((28, 28)), cmap = 'gray')\n",
        "plt.show()\n",
        "\n",
        "print(\"The input image: \")\n",
        "plt.imshow(decoded_imgs[0].reshape((28, 28)), cmap = 'gray')\n",
        "plt.show()"
      ],
      "execution_count": null,
      "outputs": [
        {
          "output_type": "stream",
          "text": [
            "The input image: \n"
          ],
          "name": "stdout"
        },
        {
          "output_type": "display_data",
          "data": {
            "image/png": "[encoded data removed]",
            "text/plain": [
              "<Figure size 432x288 with 1 Axes>"
            ]
          },
          "metadata": {
            "tags": [],
            "needs_background": "light"
          }
        },
        {
          "output_type": "stream",
          "text": [
            "The input image with noise: \n"
          ],
          "name": "stdout"
        },
        {
          "output_type": "display_data",
          "data": {
            "image/png": "[encoded data removed]",
            "text/plain": [
              "<Figure size 432x288 with 1 Axes>"
            ]
          },
          "metadata": {
            "tags": [],
            "needs_background": "light"
          }
        },
        {
          "output_type": "stream",
          "text": [
            "The input image: \n"
          ],
          "name": "stdout"
        },
        {
          "output_type": "display_data",
          "data": {
            "image/png": "[encoded data removed]",
            "text/plain": [
              "<Figure size 432x288 with 1 Axes>"
            ]
          },
          "metadata": {
            "tags": [],
            "needs_background": "light"
          }
        }
      ]
    }
  ]
}