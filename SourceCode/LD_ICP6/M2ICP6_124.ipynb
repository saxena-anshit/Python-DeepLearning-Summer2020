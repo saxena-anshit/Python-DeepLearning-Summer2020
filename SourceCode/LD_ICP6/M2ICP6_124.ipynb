{
  "nbformat": 4,
  "nbformat_minor": 0,
  "metadata": {
    "colab": {
      "name": "M2ICP6_124.ipynb",
      "provenance": []
    },
    "kernelspec": {
      "name": "python3",
      "display_name": "Python 3"
    }
  },
  "cells": [
    {
      "cell_type": "markdown",
      "metadata": {
        "id": "view-in-github",
        "colab_type": "text"
      },
      "source": [
        "<a href=\"https://colab.research.google.com/github/mohzary/python-deep-learning-f19/blob/master/M2ICP7/M2ICP7_124.ipynb\" target=\"_parent\"><img src=\"https://colab.research.google.com/assets/colab-badge.svg\" alt=\"Open In Colab\"/></a>"
      ]
    },
    {
      "cell_type": "markdown",
      "metadata": {
        "id": "ynJTIX_7AyN7",
        "colab_type": "text"
      },
      "source": [
        "In class programming:\n",
        "\n",
        "1. Add one more hidden layer to autoencoder\n",
        "\n",
        "2. Visualize the input and reconstructed representations of the autoencoder using Matplotlib\n",
        "\n",
        "3. Visualize the input, noisy input and reconstructed representations (denoised output) of the Denoising Autoencoder using Matplotlib\n",
        "\n",
        "\n",
        "4. Plot Loss and Accuracy using history object\n"
      ]
    },
    {
      "cell_type": "code",
      "metadata": {
        "id": "oCEmCM8uAsri",
        "colab_type": "code",
        "colab": {
          "base_uri": "https://localhost:8080/",
          "height": 34
        },
        "outputId": "996deb96-f62a-45f1-a9fd-8497c68f2df7"
      },
      "source": [
        "from keras.layers import Input, Dense\n",
        "from keras.models import Model\n",
        "\n",
        "# this is the size of our encoded representations\n",
        "encoding_dim = 32  # 32 floats -> compression of factor 24.5, assuming the input is 784 floats\n",
        "\n",
        "# this is our input placeholder\n",
        "input_img = Input(shape=(784,))\n",
        "# \"encoded\" is the encoded representation of the input\n",
        "encoded1 = Dense(encoding_dim, activation='relu')(input_img)\n",
        "\n",
        "#Add one more hidden layer to autoencoder\n",
        "encoded2 = Dense(16, activation='relu')(encoded1)\n",
        "\n",
        "# \"decoded\" is the lossy reconstruction of the input\n",
        "decoded2 = Dense(16, activation='sigmoid')(encoded2)\n",
        "\n",
        "decoded = Dense(784, activation='sigmoid')(decoded2)\n",
        "# this model maps an input to its reconstruction\n",
        "autoencoder = Model(input_img, decoded)\n",
        "# this model maps an input to its encoded representation\n",
        "encoder = Model(input_img, encoded2)\n",
        "# create a placeholder for an encoded (32-dimensional) input\n",
        "encoded_input = Input(shape=(16,))\n",
        "# retrieve the last layer of the autoencoder model\n",
        "decoder_layer = autoencoder.layers[-1]\n",
        "# create the decoder model\n",
        "decoder = Model(encoded_input, decoder_layer(encoded_input))\n",
        "autoencoder.compile(optimizer='adadelta', loss='binary_crossentropy', metrics=['accuracy'])"
      ],
      "execution_count": null,
      "outputs": [
        {
          "output_type": "stream",
          "text": [
            "Using TensorFlow backend.\n"
          ],
          "name": "stderr"
        }
      ]
    },
    {
      "cell_type": "code",
      "metadata": {
        "id": "HnassJPsRGx9",
        "colab_type": "code",
        "colab": {
          "base_uri": "https://localhost:8080/",
          "height": 247
        },
        "outputId": "d26de613-4396-4dd6-882a-76d447b9b506"
      },
      "source": [
        "from keras.datasets import mnist\n",
        "import numpy as np\n",
        "(x_train, _), (x_test, _) = mnist.load_data()\n",
        "x_train = x_train.astype('float32') / 255.\n",
        "x_test = x_test.astype('float32') / 255.\n",
        "x_train = x_train.reshape((len(x_train), np.prod(x_train.shape[1:])))\n",
        "x_test = x_test.reshape((len(x_test), np.prod(x_test.shape[1:])))\n",
        "\n",
        "history = autoencoder.fit(x_train, x_train,\n",
        "                epochs=5,\n",
        "                batch_size=256,\n",
        "                shuffle=True,\n",
        "                validation_data=(x_test, x_test))\n",
        "# encode and decode some digits\n",
        "# note that we take them from the *test* set\n",
        "encoded_imgs = encoder.predict(x_test)\n",
        "decoded_imgs = decoder.predict(encoded_imgs)"
      ],
      "execution_count": null,
      "outputs": [
        {
          "output_type": "stream",
          "text": [
            "Downloading data from https://s3.amazonaws.com/img-datasets/mnist.npz\n",
            "11493376/11490434 [==============================] - 0s 0us/step\n",
            "Train on 60000 samples, validate on 10000 samples\n",
            "Epoch 1/5\n",
            "60000/60000 [==============================] - 3s 58us/step - loss: 0.5277 - accuracy: 0.7485 - val_loss: 0.3894 - val_accuracy: 0.8014\n",
            "Epoch 2/5\n",
            "60000/60000 [==============================] - 3s 53us/step - loss: 0.3468 - accuracy: 0.8031 - val_loss: 0.3196 - val_accuracy: 0.8019\n",
            "Epoch 3/5\n",
            "60000/60000 [==============================] - 3s 48us/step - loss: 0.3068 - accuracy: 0.8039 - val_loss: 0.2973 - val_accuracy: 0.8030\n",
            "Epoch 4/5\n",
            "60000/60000 [==============================] - 3s 47us/step - loss: 0.2915 - accuracy: 0.8044 - val_loss: 0.2869 - val_accuracy: 0.8030\n",
            "Epoch 5/5\n",
            "60000/60000 [==============================] - 3s 48us/step - loss: 0.2837 - accuracy: 0.8041 - val_loss: 0.2810 - val_accuracy: 0.8030\n"
          ],
          "name": "stdout"
        }
      ]
    },
    {
      "cell_type": "code",
      "metadata": {
        "id": "aZzPpC5nXUv8",
        "colab_type": "code",
        "colab": {
          "base_uri": "https://localhost:8080/",
          "height": 70
        },
        "outputId": "25fe75b0-8809-4164-851a-33036b8caa56"
      },
      "source": [
        "#The evaluation satge to get the final accuraccy result of our model\n",
        "score,acc = autoencoder.evaluate(x_test, x_test,verbose=2)\n",
        "print(\"Loss Score: %.2f\" % (score))\n",
        "print(\"Accuracy: %.2f%%\" % (acc*100))\n",
        "print(autoencoder.metrics_names)"
      ],
      "execution_count": null,
      "outputs": [
        {
          "output_type": "stream",
          "text": [
            "Loss Score: 0.28\n",
            "Accuracy: 80.30%\n",
            "['loss', 'accuracy']\n"
          ],
          "name": "stdout"
        }
      ]
    },
    {
      "cell_type": "code",
      "metadata": {
        "id": "VoGQ1k2SXE9E",
        "colab_type": "code",
        "colab": {
          "base_uri": "https://localhost:8080/",
          "height": 312
        },
        "outputId": "f5da4d6f-d469-45b0-e642-05adca32e7a2"
      },
      "source": [
        "import matplotlib.pyplot as plt\n",
        "#To plot the loss and accuracy for both training data and validation data. \n",
        "plt.figure()\n",
        "plt.plot(np.arange(0, 5), history.history[\"val_loss\"], label=\"validation loss\")\n",
        "plt.plot(np.arange(0, 5), history.history[\"val_accuracy\"], label=\"validation accuracy\")\n",
        "plt.plot(np.arange(0, 5), history.history[\"loss\"], label=\"training Loss\")\n",
        "plt.plot(np.arange(0, 5), history.history[\"accuracy\"], label=\"training accuracy\")\n",
        "plt.title(\"the loss and accuracy for both training data and validation data\")\n",
        "plt.xlabel(\"Epoch #\")\n",
        "plt.ylabel(\"Loss/Accuracy\")\n",
        "plt.legend(loc=\"best\")"
      ],
      "execution_count": null,
      "outputs": [
        {
          "output_type": "execute_result",
          "data": {
            "text/plain": [
              "<matplotlib.legend.Legend at 0x7fd2fa26c2e8>"
            ]
          },
          "metadata": {
            "tags": []
          },
          "execution_count": 6
        },
        {
          "output_type": "display_data",
          "data": {
            "image/png": "[encoded data removed]",
            "text/plain": [
              "<Figure size 432x288 with 1 Axes>"
            ]
          },
          "metadata": {
            "tags": [],
            "needs_background": "light"
          }
        }
      ]
    },
    {
      "cell_type": "code",
      "metadata": {
        "id": "NWeoKVGPBlWf",
        "colab_type": "code",
        "colab": {
          "base_uri": "https://localhost:8080/",
          "height": 548
        },
        "outputId": "2bb338bb-8653-4851-f507-6477ce8c82dd"
      },
      "source": [
        "encoded_imgs =  encoder.predict(x_test[[20],:])\n",
        "decoded_imgs = decoder.predict(encoded_imgs)\n",
        "\n",
        "print(\"The input image: \")\n",
        "plt.imshow(x_test[20].reshape((28, 28)), cmap = 'gray')\n",
        "plt.show()\n",
        "\n",
        "print(\"The input image: \")\n",
        "plt.imshow(decoded_imgs[0].reshape((28, 28)), cmap = 'gray')\n",
        "plt.show()"
      ],
      "execution_count": null,
      "outputs": [
        {
          "output_type": "stream",
          "text": [
            "The input image: \n"
          ],
          "name": "stdout"
        },
        {
          "output_type": "display_data",
          "data": {
            "image/png": "[encoded data removed]",
            "text/plain": [
              "<Figure size 432x288 with 1 Axes>"
            ]
          },
          "metadata": {
            "tags": [],
            "needs_background": "light"
          }
        },
        {
          "output_type": "stream",
          "text": [
            "The input image: \n"
          ],
          "name": "stdout"
        },
        {
          "output_type": "display_data",
          "data": {
            "image/png": "[encoded data removed]",
            "text/plain": [
              "<Figure size 432x288 with 1 Axes>"
            ]
          },
          "metadata": {
            "tags": [],
            "needs_background": "light"
          }
        }
      ]
    }
  ]
}