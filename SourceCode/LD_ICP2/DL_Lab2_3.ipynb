{
  "nbformat": 4,
  "nbformat_minor": 0,
  "metadata": {
    "kernelspec": {
      "display_name": "Python 3",
      "language": "python",
      "name": "python3"
    },
    "language_info": {
      "codemirror_mode": {
        "name": "ipython",
        "version": 3
      },
      "file_extension": ".py",
      "mimetype": "text/x-python",
      "name": "python",
      "nbconvert_exporter": "python",
      "pygments_lexer": "ipython3",
      "version": "3.7.3"
    },
    "colab": {
      "name": "DL_Lab2_3.ipynb",
      "provenance": []
    }
  },
  "cells": [
    {
      "cell_type": "code",
      "metadata": {
        "id": "MrOXuceaGYTk",
        "colab_type": "code",
        "colab": {
          "base_uri": "https://localhost:8080/",
          "height": 34
        },
        "outputId": "c3cb5a1b-bf9b-4b64-ad87-14aea05f2f33"
      },
      "source": [
        "from keras import Sequential\n",
        "from keras.datasets import mnist\n",
        "import numpy as np\n",
        "import matplotlib.pyplot as plt\n",
        "from keras.layers import Dense\n",
        "from keras.utils import to_categorical"
      ],
      "execution_count": null,
      "outputs": [
        {
          "output_type": "stream",
          "text": [
            "Using TensorFlow backend.\n"
          ],
          "name": "stderr"
        }
      ]
    },
    {
      "cell_type": "code",
      "metadata": {
        "id": "DdRVAGtFGYTq",
        "colab_type": "code",
        "colab": {
          "base_uri": "https://localhost:8080/",
          "height": 52
        },
        "outputId": "062f9559-4b3e-4343-a438-caf9fa4cdd41"
      },
      "source": [
        "(train_images,train_labels),(test_images, test_labels) = mnist.load_data()"
      ],
      "execution_count": null,
      "outputs": [
        {
          "output_type": "stream",
          "text": [
            "Downloading data from https://s3.amazonaws.com/img-datasets/mnist.npz\n",
            "11493376/11490434 [==============================] - 0s 0us/step\n"
          ],
          "name": "stdout"
        }
      ]
    },
    {
      "cell_type": "code",
      "metadata": {
        "id": "iGJnhMQaGYTs",
        "colab_type": "code",
        "colab": {
          "base_uri": "https://localhost:8080/",
          "height": 281
        },
        "outputId": "34f9e96c-ccc5-48ae-932e-e5ed31d44179"
      },
      "source": [
        "#display the first image in the training data\n",
        "plt.imshow(train_images[0,:,:],cmap='gray')\n",
        "plt.title('Ground Truth : {}'.format(train_labels[0]))\n",
        "plt.show()"
      ],
      "execution_count": null,
      "outputs": [
        {
          "output_type": "display_data",
          "data": {
            "image/png": "[encoded data removed]",
            "text/plain": [
              "<Figure size 432x288 with 1 Axes>"
            ]
          },
          "metadata": {
            "tags": [],
            "needs_background": "light"
          }
        }
      ]
    },
    {
      "cell_type": "code",
      "metadata": {
        "id": "m2rfcBG2GYTw",
        "colab_type": "code",
        "colab": {}
      },
      "source": [
        "#process the data\n",
        "#1. convert each image of shape 28*28 to 784 dimensional which will be fed to the network as a single feature\n",
        "dimData = np.prod(train_images.shape[1:])\n",
        "train_data = train_images.reshape(train_images.shape[0],dimData)\n",
        "test_data = test_images.reshape(test_images.shape[0],dimData)"
      ],
      "execution_count": null,
      "outputs": []
    },
    {
      "cell_type": "code",
      "metadata": {
        "id": "0UNJpgfWGYT0",
        "colab_type": "code",
        "colab": {}
      },
      "source": [
        "#convert data to float and scale values between 0 and 1\n",
        "train_data = train_data.astype('float')\n",
        "test_data = test_data.astype('float')"
      ],
      "execution_count": null,
      "outputs": []
    },
    {
      "cell_type": "code",
      "metadata": {
        "id": "2AlYTgd1GYT5",
        "colab_type": "code",
        "colab": {}
      },
      "source": [
        "#change the labels frominteger to one-hot encoding\n",
        "train_labels_one_hot = to_categorical(train_labels)\n",
        "test_labels_one_hot = to_categorical(test_labels)"
      ],
      "execution_count": null,
      "outputs": []
    },
    {
      "cell_type": "code",
      "metadata": {
        "id": "fEJD_otTGYT8",
        "colab_type": "code",
        "colab": {
          "base_uri": "https://localhost:8080/",
          "height": 745
        },
        "outputId": "410a31d3-a113-424e-c4dd-4bc82eca0920"
      },
      "source": [
        "#creating network\n",
        "model = Sequential()\n",
        "model.add(Dense(512, activation='relu', input_shape=(dimData,)))\n",
        "model.add(Dense(512, activation='relu'))\n",
        "model.add(Dense(10, activation='softmax'))\n",
        "\n",
        "model.compile(optimizer='rmsprop', loss='categorical_crossentropy', metrics=['accuracy'])\n",
        "history = model.fit(train_data, train_labels_one_hot, batch_size=256, epochs=20, verbose=1,\n",
        "                   validation_data=(test_data, test_labels_one_hot))\n"
      ],
      "execution_count": null,
      "outputs": [
        {
          "output_type": "stream",
          "text": [
            "Train on 60000 samples, validate on 10000 samples\n",
            "Epoch 1/20\n",
            "60000/60000 [==============================] - 6s 103us/step - loss: 5.1684 - accuracy: 0.8799 - val_loss: 0.9462 - val_accuracy: 0.9102\n",
            "Epoch 2/20\n",
            "60000/60000 [==============================] - 6s 100us/step - loss: 0.4186 - accuracy: 0.9465 - val_loss: 0.5218 - val_accuracy: 0.9300\n",
            "Epoch 3/20\n",
            "60000/60000 [==============================] - 6s 101us/step - loss: 0.2427 - accuracy: 0.9614 - val_loss: 0.4334 - val_accuracy: 0.9386\n",
            "Epoch 4/20\n",
            "60000/60000 [==============================] - 6s 99us/step - loss: 0.1861 - accuracy: 0.9677 - val_loss: 0.2748 - val_accuracy: 0.9589\n",
            "Epoch 5/20\n",
            "60000/60000 [==============================] - 6s 100us/step - loss: 0.1628 - accuracy: 0.9724 - val_loss: 0.3713 - val_accuracy: 0.9535\n",
            "Epoch 6/20\n",
            "60000/60000 [==============================] - 6s 99us/step - loss: 0.1407 - accuracy: 0.9759 - val_loss: 0.4255 - val_accuracy: 0.9560\n",
            "Epoch 7/20\n",
            "60000/60000 [==============================] - 6s 100us/step - loss: 0.1373 - accuracy: 0.9791 - val_loss: 0.3330 - val_accuracy: 0.9670\n",
            "Epoch 8/20\n",
            "60000/60000 [==============================] - 6s 99us/step - loss: 0.1297 - accuracy: 0.9817 - val_loss: 0.3797 - val_accuracy: 0.9588\n",
            "Epoch 9/20\n",
            "60000/60000 [==============================] - 6s 99us/step - loss: 0.1343 - accuracy: 0.9824 - val_loss: 0.4257 - val_accuracy: 0.9639\n",
            "Epoch 10/20\n",
            "60000/60000 [==============================] - 6s 99us/step - loss: 0.1144 - accuracy: 0.9838 - val_loss: 0.3592 - val_accuracy: 0.9727\n",
            "Epoch 11/20\n",
            "60000/60000 [==============================] - 6s 98us/step - loss: 0.1106 - accuracy: 0.9863 - val_loss: 0.5303 - val_accuracy: 0.9646\n",
            "Epoch 12/20\n",
            "60000/60000 [==============================] - 6s 98us/step - loss: 0.1155 - accuracy: 0.9869 - val_loss: 0.4336 - val_accuracy: 0.9722\n",
            "Epoch 13/20\n",
            "60000/60000 [==============================] - 6s 98us/step - loss: 0.1055 - accuracy: 0.9877 - val_loss: 0.4775 - val_accuracy: 0.9730\n",
            "Epoch 14/20\n",
            "60000/60000 [==============================] - 6s 99us/step - loss: 0.1185 - accuracy: 0.9878 - val_loss: 0.5217 - val_accuracy: 0.9683\n",
            "Epoch 15/20\n",
            "60000/60000 [==============================] - 6s 99us/step - loss: 0.1031 - accuracy: 0.9891 - val_loss: 0.4908 - val_accuracy: 0.9776\n",
            "Epoch 16/20\n",
            "60000/60000 [==============================] - 6s 99us/step - loss: 0.0944 - accuracy: 0.9905 - val_loss: 0.6102 - val_accuracy: 0.9686\n",
            "Epoch 17/20\n",
            "60000/60000 [==============================] - 6s 102us/step - loss: 0.0990 - accuracy: 0.9901 - val_loss: 0.6073 - val_accuracy: 0.9711\n",
            "Epoch 18/20\n",
            "60000/60000 [==============================] - 6s 101us/step - loss: 0.0993 - accuracy: 0.9912 - val_loss: 0.5091 - val_accuracy: 0.9764\n",
            "Epoch 19/20\n",
            "60000/60000 [==============================] - 6s 99us/step - loss: 0.0968 - accuracy: 0.9915 - val_loss: 0.5828 - val_accuracy: 0.9745\n",
            "Epoch 20/20\n",
            "60000/60000 [==============================] - 6s 99us/step - loss: 0.0916 - accuracy: 0.9925 - val_loss: 0.6024 - val_accuracy: 0.9776\n"
          ],
          "name": "stdout"
        }
      ]
    },
    {
      "cell_type": "code",
      "metadata": {
        "id": "50qOJGDsGYT-",
        "colab_type": "code",
        "colab": {
          "base_uri": "https://localhost:8080/",
          "height": 52
        },
        "outputId": "0e61bf86-a3fa-4e62-c732-9bb77783ccf7"
      },
      "source": [
        "[test_loss, test_acc] = model.evaluate(test_data, test_labels_one_hot)\n",
        "print(\"Evaluation result on Test Data : Loss = {}, accuracy = {}\".format(test_loss, test_acc))"
      ],
      "execution_count": null,
      "outputs": [
        {
          "output_type": "stream",
          "text": [
            "10000/10000 [==============================] - 1s 71us/step\n",
            "Evaluation result on Test Data : Loss = 0.6024221002208024, accuracy = 0.9775999784469604\n"
          ],
          "name": "stdout"
        }
      ]
    },
    {
      "cell_type": "code",
      "metadata": {
        "id": "HUAnDRozGYUD",
        "colab_type": "code",
        "colab": {
          "base_uri": "https://localhost:8080/",
          "height": 54
        },
        "outputId": "1a7b2d11-4935-4bee-b297-7304f39cfa2a"
      },
      "source": [
        "print(history.history)"
      ],
      "execution_count": null,
      "outputs": [
        {
          "output_type": "stream",
          "text": [
            "{'val_loss': [0.9462085131406784, 0.5218034256219644, 0.433417301940918, 0.27481386360526083, 0.3713242791189514, 0.4255436519130133, 0.33304500326402486, 0.37966025539301335, 0.42567155716417326, 0.35924690672755244, 0.530271236005798, 0.4336431130888774, 0.47746885570287706, 0.521666989397992, 0.4908008905410767, 0.6101746438533068, 0.6072631062746048, 0.5090968614158407, 0.5828210597991943, 0.602422093361616], 'val_accuracy': [0.9101999998092651, 0.9300000071525574, 0.9386000037193298, 0.958899974822998, 0.953499972820282, 0.9559999704360962, 0.9670000076293945, 0.9588000178337097, 0.9639000296592712, 0.9726999998092651, 0.9646000266075134, 0.9721999764442444, 0.9729999899864197, 0.9682999849319458, 0.9775999784469604, 0.9685999751091003, 0.9710999727249146, 0.9764000177383423, 0.9745000004768372, 0.9775999784469604], 'loss': [5.168441479428609, 0.4186075674057007, 0.24270988423029582, 0.18606735092401505, 0.1628368490854899, 0.14066684155861536, 0.13727010400791964, 0.12965211449960867, 0.13430734208648404, 0.11442014365006858, 0.11060608130873491, 0.11548864352133023, 0.10549546401621773, 0.1184540837274321, 0.10309461548343533, 0.09441947246919541, 0.09898496211040086, 0.09931895677375312, 0.09684109064915586, 0.0915621696405778], 'accuracy': [0.87991667, 0.9464833, 0.96141666, 0.9677167, 0.9724333, 0.9758833, 0.97915, 0.9816667, 0.9823667, 0.9837833, 0.98628336, 0.98685, 0.9877, 0.9878333, 0.98915, 0.99053335, 0.9901, 0.99116665, 0.99145, 0.9924833]}\n"
          ],
          "name": "stdout"
        }
      ]
    },
    {
      "cell_type": "code",
      "metadata": {
        "id": "ulj10UIaGYUF",
        "colab_type": "code",
        "colab": {
          "base_uri": "https://localhost:8080/",
          "height": 312
        },
        "outputId": "df6895a6-a94d-4d56-df60-9ba49ad584fb"
      },
      "source": [
        "#plot the loss and accuracy for both training data and validation data. \n",
        "plt.figure()\n",
        "plt.plot(np.arange(0, 20), history.history[\"val_loss\"], label=\"validation loss\")\n",
        "plt.plot(np.arange(0, 20), history.history[\"val_accuracy\"], label=\"validation accuracy\")\n",
        "plt.plot(np.arange(0, 20), history.history[\"loss\"], label=\"training Loss\")\n",
        "plt.plot(np.arange(0, 20), history.history[\"accuracy\"], label=\"training accuracy\")\n",
        "plt.title(\"the loss and accuracy for both training data and validation data\")\n",
        "plt.xlabel(\"Epoch #\")\n",
        "plt.ylabel(\"Loss/Accuracy\")\n",
        "plt.legend(loc=\"best\")"
      ],
      "execution_count": null,
      "outputs": [
        {
          "output_type": "execute_result",
          "data": {
            "text/plain": [
              "<matplotlib.legend.Legend at 0x7f76430166d8>"
            ]
          },
          "metadata": {
            "tags": []
          },
          "execution_count": 10
        },
        {
          "output_type": "display_data",
          "data": {
            "image/png": "[encoded data removed]",
            "text/plain": [
              "<Figure size 432x288 with 1 Axes>"
            ]
          },
          "metadata": {
            "tags": [],
            "needs_background": "light"
          }
        }
      ]
    },
    {
      "cell_type": "code",
      "metadata": {
        "id": "E_fGXTGvGYUJ",
        "colab_type": "code",
        "colab": {
          "base_uri": "https://localhost:8080/",
          "height": 298
        },
        "outputId": "0d2107f5-1d55-4b3b-ed43-7647d19d128c"
      },
      "source": [
        "# To plot one of the images in the test data, and then do inferencing to check what is the prediction of the model on that single image in the test data\n",
        "\n",
        "\n",
        "predict_classe = model.predict_classes(test_data[[50],:])\n",
        "print(predict_classe)\n",
        "plt.imshow(test_images[50].reshape((28, 28)), cmap = 'gray')\n",
        "plt.title(\"This is: \" + str(predict_classe[0]))\n",
        "plt.show()\n"
      ],
      "execution_count": null,
      "outputs": [
        {
          "output_type": "stream",
          "text": [
            "[6]\n"
          ],
          "name": "stdout"
        },
        {
          "output_type": "display_data",
          "data": {
            "image/png": "[encoded data removed]",
            "text/plain": [
              "<Figure size 432x288 with 1 Axes>"
            ]
          },
          "metadata": {
            "tags": [],
            "needs_background": "light"
          }
        }
      ]
    },
    {
      "cell_type": "code",
      "metadata": {
        "id": "H6tJ58rHGYUN",
        "colab_type": "code",
        "colab": {}
      },
      "source": [
        ""
      ],
      "execution_count": null,
      "outputs": []
    }
  ]
}