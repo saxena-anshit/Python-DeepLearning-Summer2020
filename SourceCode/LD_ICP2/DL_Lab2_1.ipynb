{
  "nbformat": 4,
  "nbformat_minor": 0,
  "metadata": {
    "kernelspec": {
      "display_name": "Python 3",
      "language": "python",
      "name": "python3"
    },
    "language_info": {
      "codemirror_mode": {
        "name": "ipython",
        "version": 3
      },
      "file_extension": ".py",
      "mimetype": "text/x-python",
      "name": "python",
      "nbconvert_exporter": "python",
      "pygments_lexer": "ipython3",
      "version": "3.7.3"
    },
    "colab": {
      "name": "DL_Lab2_1.ipynb",
      "provenance": []
    }
  },
  "cells": [
    {
      "cell_type": "code",
      "metadata": {
        "id": "MrOXuceaGYTk",
        "colab_type": "code",
        "colab": {
          "base_uri": "https://localhost:8080/",
          "height": 34
        },
        "outputId": "5551130a-8916-46a9-c1d4-538ec6577544"
      },
      "source": [
        "from keras import Sequential\n",
        "from keras.datasets import mnist\n",
        "import numpy as np\n",
        "import matplotlib.pyplot as plt\n",
        "from keras.layers import Dense\n",
        "from keras.utils import to_categorical"
      ],
      "execution_count": null,
      "outputs": [
        {
          "output_type": "stream",
          "text": [
            "Using TensorFlow backend.\n"
          ],
          "name": "stderr"
        }
      ]
    },
    {
      "cell_type": "code",
      "metadata": {
        "id": "DdRVAGtFGYTq",
        "colab_type": "code",
        "colab": {
          "base_uri": "https://localhost:8080/",
          "height": 52
        },
        "outputId": "98491240-7b78-493c-e7b5-fbe9c12cc4c7"
      },
      "source": [
        "(train_images,train_labels),(test_images, test_labels) = mnist.load_data()"
      ],
      "execution_count": null,
      "outputs": [
        {
          "output_type": "stream",
          "text": [
            "Downloading data from https://s3.amazonaws.com/img-datasets/mnist.npz\n",
            "11493376/11490434 [==============================] - 1s 0us/step\n"
          ],
          "name": "stdout"
        }
      ]
    },
    {
      "cell_type": "code",
      "metadata": {
        "id": "iGJnhMQaGYTs",
        "colab_type": "code",
        "colab": {
          "base_uri": "https://localhost:8080/",
          "height": 281
        },
        "outputId": "e0bc8d39-a88e-438a-8fdf-14a49cefbd8e"
      },
      "source": [
        "#display the first image in the training data\n",
        "plt.imshow(train_images[0,:,:],cmap='gray')\n",
        "plt.title('Ground Truth : {}'.format(train_labels[0]))\n",
        "plt.show()"
      ],
      "execution_count": null,
      "outputs": [
        {
          "output_type": "display_data",
          "data": {
            "image/png": "[encoded data removed]",
            "text/plain": [
              "<Figure size 432x288 with 1 Axes>"
            ]
          },
          "metadata": {
            "tags": [],
            "needs_background": "light"
          }
        }
      ]
    },
    {
      "cell_type": "code",
      "metadata": {
        "id": "m2rfcBG2GYTw",
        "colab_type": "code",
        "colab": {}
      },
      "source": [
        "#process the data\n",
        "#1. convert each image of shape 28*28 to 784 dimensional which will be fed to the network as a single feature\n",
        "dimData = np.prod(train_images.shape[1:])\n",
        "train_data = train_images.reshape(train_images.shape[0],dimData)\n",
        "test_data = test_images.reshape(test_images.shape[0],dimData)"
      ],
      "execution_count": null,
      "outputs": []
    },
    {
      "cell_type": "code",
      "metadata": {
        "id": "0UNJpgfWGYT0",
        "colab_type": "code",
        "colab": {}
      },
      "source": [
        "#convert data to float and scale values between 0 and 1\n",
        "train_data = train_data.astype('float')\n",
        "test_data = test_data.astype('float')"
      ],
      "execution_count": null,
      "outputs": []
    },
    {
      "cell_type": "code",
      "metadata": {
        "id": "dznWdtPyGYT2",
        "colab_type": "code",
        "colab": {}
      },
      "source": [
        "#scale data\n",
        "train_data /=255.0\n",
        "test_data /=255.0"
      ],
      "execution_count": null,
      "outputs": []
    },
    {
      "cell_type": "code",
      "metadata": {
        "id": "2AlYTgd1GYT5",
        "colab_type": "code",
        "colab": {}
      },
      "source": [
        "#change the labels frominteger to one-hot encoding\n",
        "train_labels_one_hot = to_categorical(train_labels)\n",
        "test_labels_one_hot = to_categorical(test_labels)"
      ],
      "execution_count": null,
      "outputs": []
    },
    {
      "cell_type": "code",
      "metadata": {
        "id": "fEJD_otTGYT8",
        "colab_type": "code",
        "colab": {
          "base_uri": "https://localhost:8080/",
          "height": 745
        },
        "outputId": "6b3e1c69-e69c-44bc-bc7e-1338e0497604"
      },
      "source": [
        "#creating network\n",
        "model = Sequential()\n",
        "model.add(Dense(512, activation='relu', input_shape=(dimData,)))\n",
        "model.add(Dense(512, activation='relu'))\n",
        "model.add(Dense(10, activation='softmax'))\n",
        "\n",
        "model.compile(optimizer='rmsprop', loss='categorical_crossentropy', metrics=['accuracy'])\n",
        "history = model.fit(train_data, train_labels_one_hot, batch_size=256, epochs=20, verbose=1,\n",
        "                   validation_data=(test_data, test_labels_one_hot))\n"
      ],
      "execution_count": null,
      "outputs": [
        {
          "output_type": "stream",
          "text": [
            "Train on 60000 samples, validate on 10000 samples\n",
            "Epoch 1/20\n",
            "60000/60000 [==============================] - 5s 86us/step - loss: 0.2680 - accuracy: 0.9168 - val_loss: 0.1341 - val_accuracy: 0.9563\n",
            "Epoch 2/20\n",
            "60000/60000 [==============================] - 5s 81us/step - loss: 0.0922 - accuracy: 0.9712 - val_loss: 0.1499 - val_accuracy: 0.9497\n",
            "Epoch 3/20\n",
            "60000/60000 [==============================] - 5s 81us/step - loss: 0.0575 - accuracy: 0.9820 - val_loss: 0.0906 - val_accuracy: 0.9727\n",
            "Epoch 4/20\n",
            "60000/60000 [==============================] - 5s 81us/step - loss: 0.0393 - accuracy: 0.9877 - val_loss: 0.0820 - val_accuracy: 0.9737\n",
            "Epoch 5/20\n",
            "60000/60000 [==============================] - 5s 81us/step - loss: 0.0290 - accuracy: 0.9908 - val_loss: 0.0746 - val_accuracy: 0.9795\n",
            "Epoch 6/20\n",
            "60000/60000 [==============================] - 5s 81us/step - loss: 0.0211 - accuracy: 0.9930 - val_loss: 0.0841 - val_accuracy: 0.9801\n",
            "Epoch 7/20\n",
            "60000/60000 [==============================] - 5s 81us/step - loss: 0.0168 - accuracy: 0.9949 - val_loss: 0.0873 - val_accuracy: 0.9795\n",
            "Epoch 8/20\n",
            "60000/60000 [==============================] - 5s 81us/step - loss: 0.0135 - accuracy: 0.9953 - val_loss: 0.0725 - val_accuracy: 0.9838\n",
            "Epoch 9/20\n",
            "60000/60000 [==============================] - 5s 81us/step - loss: 0.0113 - accuracy: 0.9966 - val_loss: 0.0853 - val_accuracy: 0.9836\n",
            "Epoch 10/20\n",
            "60000/60000 [==============================] - 5s 81us/step - loss: 0.0092 - accuracy: 0.9967 - val_loss: 0.0902 - val_accuracy: 0.9825\n",
            "Epoch 11/20\n",
            "60000/60000 [==============================] - 5s 81us/step - loss: 0.0092 - accuracy: 0.9972 - val_loss: 0.0946 - val_accuracy: 0.9828\n",
            "Epoch 12/20\n",
            "60000/60000 [==============================] - 5s 82us/step - loss: 0.0077 - accuracy: 0.9973 - val_loss: 0.1153 - val_accuracy: 0.9783\n",
            "Epoch 13/20\n",
            "60000/60000 [==============================] - 5s 81us/step - loss: 0.0061 - accuracy: 0.9978 - val_loss: 0.0900 - val_accuracy: 0.9846\n",
            "Epoch 14/20\n",
            "60000/60000 [==============================] - 5s 81us/step - loss: 0.0047 - accuracy: 0.9983 - val_loss: 0.1295 - val_accuracy: 0.9785\n",
            "Epoch 15/20\n",
            "60000/60000 [==============================] - 5s 81us/step - loss: 0.0053 - accuracy: 0.9985 - val_loss: 0.1396 - val_accuracy: 0.9787\n",
            "Epoch 16/20\n",
            "60000/60000 [==============================] - 5s 81us/step - loss: 0.0043 - accuracy: 0.9985 - val_loss: 0.1174 - val_accuracy: 0.9816\n",
            "Epoch 17/20\n",
            "60000/60000 [==============================] - 5s 81us/step - loss: 0.0056 - accuracy: 0.9982 - val_loss: 0.1168 - val_accuracy: 0.9830\n",
            "Epoch 18/20\n",
            "60000/60000 [==============================] - 5s 82us/step - loss: 0.0057 - accuracy: 0.9985 - val_loss: 0.1187 - val_accuracy: 0.9839\n",
            "Epoch 19/20\n",
            "60000/60000 [==============================] - 5s 81us/step - loss: 0.0034 - accuracy: 0.9990 - val_loss: 0.1283 - val_accuracy: 0.9830\n",
            "Epoch 20/20\n",
            "60000/60000 [==============================] - 5s 82us/step - loss: 0.0044 - accuracy: 0.9987 - val_loss: 0.1309 - val_accuracy: 0.9822\n"
          ],
          "name": "stdout"
        }
      ]
    },
    {
      "cell_type": "code",
      "metadata": {
        "id": "50qOJGDsGYT-",
        "colab_type": "code",
        "colab": {
          "base_uri": "https://localhost:8080/",
          "height": 52
        },
        "outputId": "bef39f7e-6971-447c-9bf7-ff59b334a43d"
      },
      "source": [
        "[test_loss, test_acc] = model.evaluate(test_data, test_labels_one_hot)\n",
        "print(\"Evaluation result on Test Data : Loss = {}, accuracy = {}\".format(test_loss, test_acc))"
      ],
      "execution_count": null,
      "outputs": [
        {
          "output_type": "stream",
          "text": [
            "10000/10000 [==============================] - 1s 54us/step\n",
            "Evaluation result on Test Data : Loss = 0.13091927455692492, accuracy = 0.982200026512146\n"
          ],
          "name": "stdout"
        }
      ]
    },
    {
      "cell_type": "code",
      "metadata": {
        "id": "HUAnDRozGYUD",
        "colab_type": "code",
        "colab": {
          "base_uri": "https://localhost:8080/",
          "height": 54
        },
        "outputId": "cd2eca29-e730-4964-cf63-d0a2dd688901"
      },
      "source": [
        "print(history.history)"
      ],
      "execution_count": null,
      "outputs": [
        {
          "output_type": "stream",
          "text": [
            "{'val_loss': [0.13407007273435592, 0.14987719223201276, 0.09062015163656324, 0.08198506443779915, 0.07458869107291102, 0.08413393841499346, 0.08727173280566876, 0.07252313509803353, 0.08529980099749737, 0.09022174970917363, 0.09461598187237968, 0.11529110062550724, 0.09004758690092712, 0.1294906295340013, 0.13960343839651904, 0.11740578783452511, 0.11681714959088713, 0.11873983087427914, 0.12828013543747366, 0.13091927357784006], 'val_accuracy': [0.9563000202178955, 0.9496999979019165, 0.9726999998092651, 0.9736999869346619, 0.9794999957084656, 0.9800999760627747, 0.9794999957084656, 0.9837999939918518, 0.9836000204086304, 0.9825000166893005, 0.9828000068664551, 0.9782999753952026, 0.9846000075340271, 0.9785000085830688, 0.9786999821662903, 0.9815999865531921, 0.9829999804496765, 0.9839000105857849, 0.9829999804496765, 0.982200026512146], 'loss': [0.267994005771478, 0.09220424882570903, 0.05751477669874827, 0.039308254073063535, 0.029006151464084785, 0.021140238315363723, 0.016776104927808046, 0.013523889833440383, 0.01127500351324367, 0.00919841288762788, 0.009159293853243192, 0.007708598697783115, 0.0060808866395770265, 0.004686884377726044, 0.005282407114266728, 0.004338944534852635, 0.0055549192582936184, 0.0056659188406706865, 0.003420803149212831, 0.004427669354231814], 'accuracy': [0.91685, 0.9711667, 0.9820167, 0.98766667, 0.99076664, 0.99296665, 0.9949, 0.9953333, 0.99663335, 0.9967167, 0.9971833, 0.99733335, 0.9978, 0.9982833, 0.99848336, 0.9985167, 0.9981667, 0.99855, 0.9989833, 0.99866664]}\n"
          ],
          "name": "stdout"
        }
      ]
    },
    {
      "cell_type": "code",
      "metadata": {
        "id": "ulj10UIaGYUF",
        "colab_type": "code",
        "colab": {
          "base_uri": "https://localhost:8080/",
          "height": 312
        },
        "outputId": "594828ae-00a5-4901-b60a-fd26488fe342"
      },
      "source": [
        "#plot the loss and accuracy for both training data and validation data. \n",
        "plt.figure()\n",
        "plt.plot(np.arange(0, 20), history.history[\"val_loss\"], label=\"validation loss\")\n",
        "plt.plot(np.arange(0, 20), history.history[\"val_accuracy\"], label=\"validation accuracy\")\n",
        "plt.plot(np.arange(0, 20), history.history[\"loss\"], label=\"training Loss\")\n",
        "plt.plot(np.arange(0, 20), history.history[\"accuracy\"], label=\"training accuracy\")\n",
        "plt.title(\"the loss and accuracy for both training data and validation data\")\n",
        "plt.xlabel(\"Epoch #\")\n",
        "plt.ylabel(\"Loss/Accuracy\")\n",
        "plt.legend(loc=\"best\")"
      ],
      "execution_count": null,
      "outputs": [
        {
          "output_type": "execute_result",
          "data": {
            "text/plain": [
              "<matplotlib.legend.Legend at 0x7f22955d6710>"
            ]
          },
          "metadata": {
            "tags": []
          },
          "execution_count": 11
        },
        {
          "output_type": "display_data",
          "data": {
            "image/png": "[encoded data removed]",
            "text/plain": [
              "<Figure size 432x288 with 1 Axes>"
            ]
          },
          "metadata": {
            "tags": [],
            "needs_background": "light"
          }
        }
      ]
    },
    {
      "cell_type": "code",
      "metadata": {
        "id": "E_fGXTGvGYUJ",
        "colab_type": "code",
        "colab": {
          "base_uri": "https://localhost:8080/",
          "height": 298
        },
        "outputId": "097c3645-872e-425e-fe4a-73428bab0a81"
      },
      "source": [
        "# To plot one of the images in the test data, and then do inferencing to check what is the prediction of the model on that single image in the test data\n",
        "\n",
        "\n",
        "predict_classe = model.predict_classes(test_data[[50],:])\n",
        "print(predict_classe)\n",
        "plt.imshow(test_images[50].reshape((28, 28)), cmap = 'gray')\n",
        "plt.title(\"This is: \" + str(predict_classe[0]))\n",
        "plt.show()\n"
      ],
      "execution_count": null,
      "outputs": [
        {
          "output_type": "stream",
          "text": [
            "[6]\n"
          ],
          "name": "stdout"
        },
        {
          "output_type": "display_data",
          "data": {
            "image/png": "[encoded data removed]",
            "text/plain": [
              "<Figure size 432x288 with 1 Axes>"
            ]
          },
          "metadata": {
            "tags": [],
            "needs_background": "light"
          }
        }
      ]
    },
    {
      "cell_type": "code",
      "metadata": {
        "id": "H6tJ58rHGYUN",
        "colab_type": "code",
        "colab": {}
      },
      "source": [
        ""
      ],
      "execution_count": null,
      "outputs": []
    }
  ]
}