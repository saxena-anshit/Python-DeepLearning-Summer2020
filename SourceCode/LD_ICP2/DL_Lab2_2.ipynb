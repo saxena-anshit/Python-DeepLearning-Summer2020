{
  "nbformat": 4,
  "nbformat_minor": 0,
  "metadata": {
    "kernelspec": {
      "display_name": "Python 3",
      "language": "python",
      "name": "python3"
    },
    "language_info": {
      "codemirror_mode": {
        "name": "ipython",
        "version": 3
      },
      "file_extension": ".py",
      "mimetype": "text/x-python",
      "name": "python",
      "nbconvert_exporter": "python",
      "pygments_lexer": "ipython3",
      "version": "3.7.3"
    },
    "colab": {
      "name": "DL_Lab2_2.ipynb",
      "provenance": []
    }
  },
  "cells": [
    {
      "cell_type": "code",
      "metadata": {
        "id": "Kp4ti0DqGinK",
        "colab_type": "code",
        "colab": {
          "base_uri": "https://localhost:8080/",
          "height": 34
        },
        "outputId": "87c13f45-5bf6-4ce2-9384-fe8640fb073a"
      },
      "source": [
        "from keras import Sequential\n",
        "from keras.datasets import mnist\n",
        "import numpy as np\n",
        "import matplotlib.pyplot as plt\n",
        "from keras.layers import Dense\n",
        "from keras.utils import to_categorical"
      ],
      "execution_count": null,
      "outputs": [
        {
          "output_type": "stream",
          "text": [
            "Using TensorFlow backend.\n"
          ],
          "name": "stderr"
        }
      ]
    },
    {
      "cell_type": "code",
      "metadata": {
        "id": "8R7TKiZyGinN",
        "colab_type": "code",
        "colab": {
          "base_uri": "https://localhost:8080/",
          "height": 52
        },
        "outputId": "edcb1e76-5d93-423c-dd40-ac5fd55ac0b2"
      },
      "source": [
        "(train_images,train_labels),(test_images, test_labels) = mnist.load_data()"
      ],
      "execution_count": null,
      "outputs": [
        {
          "output_type": "stream",
          "text": [
            "Downloading data from https://s3.amazonaws.com/img-datasets/mnist.npz\n",
            "11493376/11490434 [==============================] - 0s 0us/step\n"
          ],
          "name": "stdout"
        }
      ]
    },
    {
      "cell_type": "code",
      "metadata": {
        "id": "1cnTqLmfGinQ",
        "colab_type": "code",
        "colab": {
          "base_uri": "https://localhost:8080/",
          "height": 281
        },
        "outputId": "33a08c2e-851d-4af1-d22b-6dd116ffbd4e"
      },
      "source": [
        "#display the first image in the training data\n",
        "plt.imshow(train_images[10,:,:],cmap='gray')\n",
        "plt.title('Ground Truth : {}'.format(train_labels[10]))\n",
        "plt.show()"
      ],
      "execution_count": null,
      "outputs": [
        {
          "output_type": "display_data",
          "data": {
            "image/png": "[encoded data removed]",
            "text/plain": [
              "<Figure size 432x288 with 1 Axes>"
            ]
          },
          "metadata": {
            "tags": [],
            "needs_background": "light"
          }
        }
      ]
    },
    {
      "cell_type": "code",
      "metadata": {
        "id": "gptIjzOUGinS",
        "colab_type": "code",
        "colab": {}
      },
      "source": [
        "#process the data\n",
        "#1. convert each image of shape 28*28 to 784 dimensional which will be fed to the network as a single feature\n",
        "dimData = np.prod(train_images.shape[1:])\n",
        "train_data = train_images.reshape(train_images.shape[0],dimData)\n",
        "test_data = test_images.reshape(test_images.shape[0],dimData)"
      ],
      "execution_count": null,
      "outputs": []
    },
    {
      "cell_type": "code",
      "metadata": {
        "id": "XnzqC_NNGinV",
        "colab_type": "code",
        "colab": {}
      },
      "source": [
        "#convert data to float and scale values between 0 and 1\n",
        "train_data = train_data.astype('float')\n",
        "test_data = test_data.astype('float')"
      ],
      "execution_count": null,
      "outputs": []
    },
    {
      "cell_type": "code",
      "metadata": {
        "id": "jTv6CA90GinY",
        "colab_type": "code",
        "colab": {}
      },
      "source": [
        "#scale data\n",
        "train_data /=255.0\n",
        "test_data /=255.0"
      ],
      "execution_count": null,
      "outputs": []
    },
    {
      "cell_type": "code",
      "metadata": {
        "id": "zcIYldBbGina",
        "colab_type": "code",
        "colab": {}
      },
      "source": [
        "#change the labels frominteger to one-hot encoding\n",
        "train_labels_one_hot = to_categorical(train_labels)\n",
        "test_labels_one_hot = to_categorical(test_labels)"
      ],
      "execution_count": null,
      "outputs": []
    },
    {
      "cell_type": "code",
      "metadata": {
        "id": "ZlmamVsZGinc",
        "colab_type": "code",
        "colab": {
          "base_uri": "https://localhost:8080/",
          "height": 1000
        },
        "outputId": "74f939f2-f202-481f-9422-46fd5d33d2a0"
      },
      "source": [
        "#creating network, to change the number of hidden layer and the activation to tanh or sigmoid and see what happens\n",
        "model = Sequential()\n",
        "model.add(Dense(512, activation='sigmoid', input_shape=(dimData,)))\n",
        "model.add(Dense(512, activation='sigmoid'))\n",
        "model.add(Dense(512, activation='sigmoid'))\n",
        "model.add(Dense(512, activation='sigmoid'))\n",
        "model.add(Dense(10, activation='softmax'))\n",
        "\n",
        "model.compile(optimizer='rmsprop', loss='categorical_crossentropy', metrics=['accuracy'])\n",
        "history = model.fit(train_data, train_labels_one_hot, batch_size=256, epochs=30, verbose=1,\n",
        "                   validation_data=(test_data, test_labels_one_hot))\n"
      ],
      "execution_count": null,
      "outputs": [
        {
          "output_type": "stream",
          "text": [
            "Train on 60000 samples, validate on 10000 samples\n",
            "Epoch 1/30\n",
            "60000/60000 [==============================] - 11s 182us/step - loss: 1.0744 - accuracy: 0.6150 - val_loss: 0.5267 - val_accuracy: 0.8153\n",
            "Epoch 2/30\n",
            "60000/60000 [==============================] - 11s 178us/step - loss: 0.4176 - accuracy: 0.8674 - val_loss: 0.3343 - val_accuracy: 0.8971\n",
            "Epoch 3/30\n",
            "60000/60000 [==============================] - 11s 178us/step - loss: 0.2812 - accuracy: 0.9134 - val_loss: 0.2222 - val_accuracy: 0.9320\n",
            "Epoch 4/30\n",
            "60000/60000 [==============================] - 11s 176us/step - loss: 0.2080 - accuracy: 0.9363 - val_loss: 0.2339 - val_accuracy: 0.9263\n",
            "Epoch 5/30\n",
            "60000/60000 [==============================] - 11s 177us/step - loss: 0.1668 - accuracy: 0.9500 - val_loss: 0.2008 - val_accuracy: 0.9400\n",
            "Epoch 6/30\n",
            "60000/60000 [==============================] - 11s 179us/step - loss: 0.1385 - accuracy: 0.9580 - val_loss: 0.1957 - val_accuracy: 0.9398\n",
            "Epoch 7/30\n",
            "60000/60000 [==============================] - 11s 180us/step - loss: 0.1181 - accuracy: 0.9637 - val_loss: 0.1206 - val_accuracy: 0.9639\n",
            "Epoch 8/30\n",
            "60000/60000 [==============================] - 11s 178us/step - loss: 0.1014 - accuracy: 0.9696 - val_loss: 0.1125 - val_accuracy: 0.9664\n",
            "Epoch 9/30\n",
            "60000/60000 [==============================] - 11s 176us/step - loss: 0.0874 - accuracy: 0.9733 - val_loss: 0.1115 - val_accuracy: 0.9648\n",
            "Epoch 10/30\n",
            "60000/60000 [==============================] - 10s 175us/step - loss: 0.0762 - accuracy: 0.9763 - val_loss: 0.1130 - val_accuracy: 0.9667\n",
            "Epoch 11/30\n",
            "60000/60000 [==============================] - 10s 171us/step - loss: 0.0658 - accuracy: 0.9799 - val_loss: 0.1288 - val_accuracy: 0.9626\n",
            "Epoch 12/30\n",
            "60000/60000 [==============================] - 10s 172us/step - loss: 0.0583 - accuracy: 0.9818 - val_loss: 0.1009 - val_accuracy: 0.9699\n",
            "Epoch 13/30\n",
            "60000/60000 [==============================] - 11s 179us/step - loss: 0.0516 - accuracy: 0.9835 - val_loss: 0.0888 - val_accuracy: 0.9732\n",
            "Epoch 14/30\n",
            "60000/60000 [==============================] - 11s 178us/step - loss: 0.0454 - accuracy: 0.9858 - val_loss: 0.1048 - val_accuracy: 0.9700\n",
            "Epoch 15/30\n",
            "60000/60000 [==============================] - 11s 178us/step - loss: 0.0404 - accuracy: 0.9870 - val_loss: 0.0932 - val_accuracy: 0.9755\n",
            "Epoch 16/30\n",
            "60000/60000 [==============================] - 11s 179us/step - loss: 0.0350 - accuracy: 0.9887 - val_loss: 0.0978 - val_accuracy: 0.9750\n",
            "Epoch 17/30\n",
            "60000/60000 [==============================] - 11s 178us/step - loss: 0.0312 - accuracy: 0.9901 - val_loss: 0.0900 - val_accuracy: 0.9776\n",
            "Epoch 18/30\n",
            "60000/60000 [==============================] - 11s 179us/step - loss: 0.0272 - accuracy: 0.9911 - val_loss: 0.0947 - val_accuracy: 0.9768\n",
            "Epoch 19/30\n",
            "60000/60000 [==============================] - 11s 178us/step - loss: 0.0245 - accuracy: 0.9920 - val_loss: 0.0938 - val_accuracy: 0.9789\n",
            "Epoch 20/30\n",
            "60000/60000 [==============================] - 11s 179us/step - loss: 0.0226 - accuracy: 0.9931 - val_loss: 0.1487 - val_accuracy: 0.9665\n",
            "Epoch 21/30\n",
            "60000/60000 [==============================] - 11s 179us/step - loss: 0.0198 - accuracy: 0.9939 - val_loss: 0.1087 - val_accuracy: 0.9778\n",
            "Epoch 22/30\n",
            "60000/60000 [==============================] - 11s 179us/step - loss: 0.0182 - accuracy: 0.9941 - val_loss: 0.0951 - val_accuracy: 0.9790\n",
            "Epoch 23/30\n",
            "60000/60000 [==============================] - 11s 180us/step - loss: 0.0164 - accuracy: 0.9948 - val_loss: 0.1004 - val_accuracy: 0.9773\n",
            "Epoch 24/30\n",
            "60000/60000 [==============================] - 11s 178us/step - loss: 0.0140 - accuracy: 0.9955 - val_loss: 0.1078 - val_accuracy: 0.9797\n",
            "Epoch 25/30\n",
            "60000/60000 [==============================] - 11s 179us/step - loss: 0.0128 - accuracy: 0.9960 - val_loss: 0.1162 - val_accuracy: 0.9789\n",
            "Epoch 26/30\n",
            "60000/60000 [==============================] - 11s 179us/step - loss: 0.0120 - accuracy: 0.9961 - val_loss: 0.1132 - val_accuracy: 0.9793\n",
            "Epoch 27/30\n",
            "60000/60000 [==============================] - 11s 183us/step - loss: 0.0111 - accuracy: 0.9966 - val_loss: 0.1283 - val_accuracy: 0.9783\n",
            "Epoch 28/30\n",
            "60000/60000 [==============================] - 11s 178us/step - loss: 0.0111 - accuracy: 0.9966 - val_loss: 0.1193 - val_accuracy: 0.9807\n",
            "Epoch 29/30\n",
            "60000/60000 [==============================] - 11s 175us/step - loss: 0.0098 - accuracy: 0.9970 - val_loss: 0.1465 - val_accuracy: 0.9750\n",
            "Epoch 30/30\n",
            "60000/60000 [==============================] - 11s 180us/step - loss: 0.0086 - accuracy: 0.9973 - val_loss: 0.1509 - val_accuracy: 0.9736\n"
          ],
          "name": "stdout"
        }
      ]
    },
    {
      "cell_type": "code",
      "metadata": {
        "id": "JfSweem0Ginf",
        "colab_type": "code",
        "colab": {
          "base_uri": "https://localhost:8080/",
          "height": 52
        },
        "outputId": "c84d2803-9135-4e50-8411-aa3dc8104022"
      },
      "source": [
        "[test_loss, test_acc] = model.evaluate(test_data, test_labels_one_hot)\n",
        "print(\"Evaluation result on Test Data : Loss = {}, accuracy = {}\".format(test_loss, test_acc))"
      ],
      "execution_count": null,
      "outputs": [
        {
          "output_type": "stream",
          "text": [
            "10000/10000 [==============================] - 1s 114us/step\n",
            "Evaluation result on Test Data : Loss = 0.15088521943594774, accuracy = 0.9735999703407288\n"
          ],
          "name": "stdout"
        }
      ]
    },
    {
      "cell_type": "code",
      "metadata": {
        "id": "yUk0AQrNGinh",
        "colab_type": "code",
        "colab": {
          "base_uri": "https://localhost:8080/",
          "height": 54
        },
        "outputId": "79c4335d-deb9-4465-a219-acd07aac049f"
      },
      "source": [
        "print(history.history)"
      ],
      "execution_count": null,
      "outputs": [
        {
          "output_type": "stream",
          "text": [
            "{'val_loss': [0.526722705078125, 0.33427170252799987, 0.22223245528936386, 0.23386760061979295, 0.20080818138122558, 0.19574448928833008, 0.12058935313895344, 0.11245959997475147, 0.1115478777974844, 0.11299278537631034, 0.12878118232265115, 0.10088360156323761, 0.08876926058828831, 0.10483289273381233, 0.09319403759213164, 0.09778699727403, 0.08995719896274386, 0.09469494861781132, 0.09376777406814508, 0.14870167173654772, 0.10873380974216852, 0.09507033053562045, 0.10036357355083018, 0.10776970238228241, 0.1161865779034748, 0.1131722655929214, 0.1283031402174366, 0.11927440770491884, 0.14647716545006698, 0.15088521272078897], 'val_accuracy': [0.8152999877929688, 0.8970999717712402, 0.9319999814033508, 0.9262999892234802, 0.9399999976158142, 0.9398000240325928, 0.9639000296592712, 0.9664000272750854, 0.9648000001907349, 0.96670001745224, 0.9625999927520752, 0.9699000120162964, 0.9732000231742859, 0.9700000286102295, 0.9754999876022339, 0.9750000238418579, 0.9775999784469604, 0.9768000245094299, 0.9789000153541565, 0.9664999842643738, 0.9778000116348267, 0.9789999723434448, 0.9772999882698059, 0.9797000288963318, 0.9789000153541565, 0.9793000221252441, 0.9782999753952026, 0.9807000160217285, 0.9750000238418579, 0.9735999703407288], 'loss': [1.074350546169281, 0.4176116162776947, 0.2812105677763621, 0.20804999135335286, 0.16683107204437256, 0.138450583310922, 0.11810814097722372, 0.10138964704672496, 0.0874050684650739, 0.07622738417784373, 0.06576151638428371, 0.058279122459888456, 0.05156617319683234, 0.04542762235601743, 0.04038585751466453, 0.035032030862569806, 0.031229233518739543, 0.027153043479224048, 0.024498620169361433, 0.022638737173378467, 0.019833617573728164, 0.018176751063639918, 0.016411850031930953, 0.01404336317156752, 0.012819560905359685, 0.012006923695094884, 0.011083347673434765, 0.011119235519265445, 0.009795540523994714, 0.008633735337962085], 'accuracy': [0.61501664, 0.8674333, 0.9133833, 0.93626666, 0.9500167, 0.9579667, 0.9637167, 0.96963334, 0.97331667, 0.9763, 0.9798667, 0.98181665, 0.9835333, 0.98578334, 0.9870333, 0.98873335, 0.99011666, 0.99111664, 0.99203336, 0.9931, 0.9938667, 0.99405, 0.99481666, 0.99546665, 0.996, 0.9960667, 0.9966, 0.9966, 0.99696666, 0.99726665]}\n"
          ],
          "name": "stdout"
        }
      ]
    },
    {
      "cell_type": "code",
      "metadata": {
        "id": "Ef1RdrpBGinj",
        "colab_type": "code",
        "colab": {
          "base_uri": "https://localhost:8080/",
          "height": 312
        },
        "outputId": "70d78851-147c-4442-8920-8f6fe74be968"
      },
      "source": [
        "#plot the loss and accuracy for both training data and validation data. \n",
        "plt.figure()\n",
        "plt.plot(np.arange(0, 30), history.history[\"val_loss\"], label=\"validation loss\")\n",
        "plt.plot(np.arange(0, 30), history.history[\"val_accuracy\"], label=\"validation accuracy\")\n",
        "plt.plot(np.arange(0, 30), history.history[\"loss\"], label=\"training Loss\")\n",
        "plt.plot(np.arange(0, 30), history.history[\"accuracy\"], label=\"training accuracy\")\n",
        "plt.title(\"the loss and accuracy for both training data and validation data\")\n",
        "plt.xlabel(\"Epoch #\")\n",
        "plt.ylabel(\"Loss/Accuracy\")\n",
        "plt.legend(loc=\"best\")"
      ],
      "execution_count": null,
      "outputs": [
        {
          "output_type": "execute_result",
          "data": {
            "text/plain": [
              "<matplotlib.legend.Legend at 0x7fa0cc37ff98>"
            ]
          },
          "metadata": {
            "tags": []
          },
          "execution_count": 11
        },
        {
          "output_type": "display_data",
          "data": {
            "image/png": "[encoded data removed]",
            "text/plain": [
              "<Figure size 432x288 with 1 Axes>"
            ]
          },
          "metadata": {
            "tags": [],
            "needs_background": "light"
          }
        }
      ]
    },
    {
      "cell_type": "code",
      "metadata": {
        "id": "Y7s9scUgGinm",
        "colab_type": "code",
        "colab": {
          "base_uri": "https://localhost:8080/",
          "height": 298
        },
        "outputId": "e2fbe5f5-176c-484f-e2aa-9f4afac6bd96"
      },
      "source": [
        "# To plot one of the images in the test data, and then do inferencing to check what is the prediction of the model on that single image in the test data\n",
        "\n",
        "\n",
        "predict_classe = model.predict_classes(test_data[[150],:])\n",
        "print(predict_classe)\n",
        "plt.imshow(test_images[150].reshape((28, 28)), cmap = 'gray')\n",
        "plt.title(\"This is: \" + str(predict_classe[0]))\n",
        "plt.show()\n"
      ],
      "execution_count": null,
      "outputs": [
        {
          "output_type": "stream",
          "text": [
            "[9]\n"
          ],
          "name": "stdout"
        },
        {
          "output_type": "display_data",
          "data": {
            "image/png": "[encoded data removed]",
            "text/plain": [
              "<Figure size 432x288 with 1 Axes>"
            ]
          },
          "metadata": {
            "tags": [],
            "needs_background": "light"
          }
        }
      ]
    },
    {
      "cell_type": "code",
      "metadata": {
        "id": "Nve0bp5GGinp",
        "colab_type": "code",
        "colab": {}
      },
      "source": [
        ""
      ],
      "execution_count": null,
      "outputs": []
    }
  ]
}